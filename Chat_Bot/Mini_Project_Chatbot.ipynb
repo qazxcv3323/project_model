{
 "cells": [
  {
   "cell_type": "markdown",
   "metadata": {
    "id": "6m7fxMU5L5ll"
   },
   "source": [
    "## **Mini Project: Chatbot 구현하기**\n",
    "- 트랜스포머를 사용하여 일상 대화 챗봇 구현"
   ]
  },
  {
   "cell_type": "code",
   "execution_count": 2,
   "metadata": {},
   "outputs": [
    {
     "name": "stdout",
     "output_type": "stream",
     "text": [
      "[name: \"/device:CPU:0\"\n",
      "device_type: \"CPU\"\n",
      "memory_limit: 268435456\n",
      "locality {\n",
      "}\n",
      "incarnation: 11199130316879899170\n",
      "xla_global_id: -1\n",
      ", name: \"/device:GPU:0\"\n",
      "device_type: \"GPU\"\n",
      "memory_limit: 4039481753\n",
      "locality {\n",
      "  bus_id: 1\n",
      "  links {\n",
      "  }\n",
      "}\n",
      "incarnation: 4595354562437797506\n",
      "physical_device_desc: \"device: 0, name: NVIDIA GeForce GTX 1660 Ti, pci bus id: 0000:01:00.0, compute capability: 7.5\"\n",
      "xla_global_id: 416903419\n",
      "]\n"
     ]
    }
   ],
   "source": [
    "from tensorflow.python.client import device_lib\n",
    "print(device_lib.list_local_devices())"
   ]
  },
  {
   "cell_type": "code",
   "execution_count": 3,
   "metadata": {},
   "outputs": [],
   "source": [
    "import tensorflow as tf"
   ]
  },
  {
   "cell_type": "code",
   "execution_count": 4,
   "metadata": {},
   "outputs": [
    {
     "name": "stdout",
     "output_type": "stream",
     "text": [
      "True\n",
      "[PhysicalDevice(name='/physical_device:GPU:0', device_type='GPU')]\n"
     ]
    }
   ],
   "source": [
    "print(tf.test.is_built_with_cuda())\n",
    "print(tf.config.list_physical_devices('GPU'))"
   ]
  },
  {
   "cell_type": "code",
   "execution_count": 5,
   "metadata": {},
   "outputs": [],
   "source": [
    "import os\n",
    "os.environ['CUDA_VISIBLE_DEVICES'] = '0' ## 초기화할 GPU number\n",
    "\n",
    "with tf.Graph().as_default():\n",
    "   # GPU 메모리를 전부 할당하지 않고, 아주 적은 비율만 할당되어 시작됨. 프로세스의 메모리 수요에 따라 자동적으로 증가\n",
    "   # 단, GPU 메모리를 처음부터 전체 비율을 사용하지 않음\n",
    "   gpu_options = tf.compat.v1.GPUOptions(allow_growth=True)"
   ]
  },
  {
   "cell_type": "markdown",
   "metadata": {
    "id": "8aCmkYZKW8mC"
   },
   "source": [
    "## **1. 데이터 로드**"
   ]
  },
  {
   "cell_type": "code",
   "execution_count": 6,
   "metadata": {
    "id": "eu1my_HEL4Cv"
   },
   "outputs": [],
   "source": [
    "import pandas as pd\n",
    "import urllib.request\n",
    "import tensorflow_datasets as tfds\n",
    "import tensorflow as tf\n",
    "import time\n",
    "import numpy as np\n",
    "import matplotlib.pyplot as plt\n",
    "import re"
   ]
  },
  {
   "cell_type": "code",
   "execution_count": 7,
   "metadata": {
    "colab": {
     "base_uri": "https://localhost:8080/",
     "height": 206
    },
    "id": "TC-huGsSMCwO",
    "outputId": "14e61ebc-0861-49cc-fb1d-e5bbfe339bbd"
   },
   "outputs": [
    {
     "data": {
      "text/html": [
       "<div>\n",
       "<style scoped>\n",
       "    .dataframe tbody tr th:only-of-type {\n",
       "        vertical-align: middle;\n",
       "    }\n",
       "\n",
       "    .dataframe tbody tr th {\n",
       "        vertical-align: top;\n",
       "    }\n",
       "\n",
       "    .dataframe thead th {\n",
       "        text-align: right;\n",
       "    }\n",
       "</style>\n",
       "<table border=\"1\" class=\"dataframe\">\n",
       "  <thead>\n",
       "    <tr style=\"text-align: right;\">\n",
       "      <th></th>\n",
       "      <th>Q</th>\n",
       "      <th>A</th>\n",
       "      <th>label</th>\n",
       "    </tr>\n",
       "  </thead>\n",
       "  <tbody>\n",
       "    <tr>\n",
       "      <th>0</th>\n",
       "      <td>12시 땡!</td>\n",
       "      <td>하루가 또 가네요.</td>\n",
       "      <td>0</td>\n",
       "    </tr>\n",
       "    <tr>\n",
       "      <th>1</th>\n",
       "      <td>1지망 학교 떨어졌어</td>\n",
       "      <td>위로해 드립니다.</td>\n",
       "      <td>0</td>\n",
       "    </tr>\n",
       "    <tr>\n",
       "      <th>2</th>\n",
       "      <td>3박4일 놀러가고 싶다</td>\n",
       "      <td>여행은 언제나 좋죠.</td>\n",
       "      <td>0</td>\n",
       "    </tr>\n",
       "    <tr>\n",
       "      <th>3</th>\n",
       "      <td>3박4일 정도 놀러가고 싶다</td>\n",
       "      <td>여행은 언제나 좋죠.</td>\n",
       "      <td>0</td>\n",
       "    </tr>\n",
       "    <tr>\n",
       "      <th>4</th>\n",
       "      <td>PPL 심하네</td>\n",
       "      <td>눈살이 찌푸려지죠.</td>\n",
       "      <td>0</td>\n",
       "    </tr>\n",
       "  </tbody>\n",
       "</table>\n",
       "</div>"
      ],
      "text/plain": [
       "                 Q            A  label\n",
       "0           12시 땡!   하루가 또 가네요.      0\n",
       "1      1지망 학교 떨어졌어    위로해 드립니다.      0\n",
       "2     3박4일 놀러가고 싶다  여행은 언제나 좋죠.      0\n",
       "3  3박4일 정도 놀러가고 싶다  여행은 언제나 좋죠.      0\n",
       "4          PPL 심하네   눈살이 찌푸려지죠.      0"
      ]
     },
     "execution_count": 7,
     "metadata": {},
     "output_type": "execute_result"
    }
   ],
   "source": [
    "urllib.request.urlretrieve(\"https://raw.githubusercontent.com/songys/Chatbot_data/master/ChatbotData.csv\", filename=\"ChatBotData.csv\")\n",
    "\n",
    "train_data = pd.read_csv('ChatBotData.csv')\n",
    "train_data.head()"
   ]
  },
  {
   "cell_type": "code",
   "execution_count": 8,
   "metadata": {
    "colab": {
     "base_uri": "https://localhost:8080/"
    },
    "id": "VZyc2cHBMFBV",
    "outputId": "901b44fd-1eb7-467a-d518-35c57dd9347c"
   },
   "outputs": [
    {
     "name": "stdout",
     "output_type": "stream",
     "text": [
      "챗봇 샘플의 개수 : 11823\n"
     ]
    }
   ],
   "source": [
    "print('챗봇 샘플의 개수 :', len(train_data))"
   ]
  },
  {
   "cell_type": "code",
   "execution_count": 9,
   "metadata": {
    "colab": {
     "base_uri": "https://localhost:8080/"
    },
    "id": "SXBAuiQ1MG1t",
    "outputId": "240ef7ef-a95b-4287-afb6-c1f1b94a916b"
   },
   "outputs": [
    {
     "name": "stdout",
     "output_type": "stream",
     "text": [
      "Q        0\n",
      "A        0\n",
      "label    0\n",
      "dtype: int64\n"
     ]
    }
   ],
   "source": [
    "print(train_data.isnull().sum())"
   ]
  },
  {
   "cell_type": "code",
   "execution_count": 10,
   "metadata": {
    "id": "GP0r7s6YMIed"
   },
   "outputs": [],
   "source": [
    "questions = []\n",
    "for sentence in train_data['Q']:\n",
    "    # 구두점에 대해서 띄어쓰기\n",
    "    # ex) 12시 땡! -> 12시 땡 !\n",
    "    sentence = re.sub(r\"([?.!,])\", r\" \\1 \", sentence)\n",
    "    sentence = sentence.strip()\n",
    "    questions.append(sentence)"
   ]
  },
  {
   "cell_type": "code",
   "execution_count": 11,
   "metadata": {
    "id": "T_0Jxu9sMKVu"
   },
   "outputs": [],
   "source": [
    "answers = []\n",
    "for sentence in train_data['A']:\n",
    "    # 구두점에 대해서 띄어쓰기\n",
    "    # ex) 12시 땡! -> 12시 땡 !\n",
    "    sentence = re.sub(r\"([?.!,])\", r\" \\1 \", sentence)\n",
    "    sentence = sentence.strip()\n",
    "    answers.append(sentence)"
   ]
  },
  {
   "cell_type": "code",
   "execution_count": 12,
   "metadata": {
    "colab": {
     "base_uri": "https://localhost:8080/"
    },
    "id": "AP3h1ZrwML9-",
    "outputId": "24d42820-c2dc-481c-f446-a05e3feccc6f"
   },
   "outputs": [
    {
     "data": {
      "text/plain": [
       "11823"
      ]
     },
     "execution_count": 12,
     "metadata": {},
     "output_type": "execute_result"
    }
   ],
   "source": [
    "len(questions)"
   ]
  },
  {
   "cell_type": "code",
   "execution_count": 13,
   "metadata": {
    "colab": {
     "base_uri": "https://localhost:8080/"
    },
    "id": "zpPYx7HjMNKk",
    "outputId": "7aa03636-b25b-459f-88c1-6db20a09b7fa"
   },
   "outputs": [
    {
     "name": "stdout",
     "output_type": "stream",
     "text": [
      "['12시 땡 !', '1지망 학교 떨어졌어', '3박4일 놀러가고 싶다', '3박4일 정도 놀러가고 싶다', 'PPL 심하네']\n",
      "['하루가 또 가네요 .', '위로해 드립니다 .', '여행은 언제나 좋죠 .', '여행은 언제나 좋죠 .', '눈살이 찌푸려지죠 .']\n"
     ]
    }
   ],
   "source": [
    "print(questions[:5])\n",
    "print(answers[:5])"
   ]
  },
  {
   "cell_type": "markdown",
   "metadata": {
    "id": "0yrGCpmMXFwf"
   },
   "source": [
    "## **2. 단어 집합 생성**"
   ]
  },
  {
   "cell_type": "code",
   "execution_count": 14,
   "metadata": {
    "id": "EMOcpQ0RrdYY"
   },
   "outputs": [],
   "source": [
    "import tensorflow_datasets as tfds"
   ]
  },
  {
   "cell_type": "code",
   "execution_count": 15,
   "metadata": {
    "id": "jI_cRHsEMOdl"
   },
   "outputs": [],
   "source": [
    "# 서브워드텍스트인코더를 사용하여 질문과 답변을 모두 포함한 단어 집합(Vocabulary) 생성\n",
    "tokenizer = tfds.deprecated.text.SubwordTextEncoder.build_from_corpus(\n",
    "    questions + answers, target_vocab_size=2**13)\n",
    "\n",
    "# 시작 토큰과 종료 토큰에 대한 정수 부여.\n",
    "START_TOKEN, END_TOKEN = [tokenizer.vocab_size], [tokenizer.vocab_size + 1]\n",
    "\n",
    "# 시작 토큰과 종료 토큰을 고려하여 단어 집합의 크기를 + 2\n",
    "VOCAB_SIZE = tokenizer.vocab_size + 2"
   ]
  },
  {
   "cell_type": "code",
   "execution_count": 16,
   "metadata": {
    "colab": {
     "base_uri": "https://localhost:8080/"
    },
    "id": "5dmNV0XrMQUO",
    "outputId": "b32cdad3-3c36-458a-8f9e-a2db3c2693a8"
   },
   "outputs": [
    {
     "name": "stdout",
     "output_type": "stream",
     "text": [
      "시작 토큰 번호 : [8178]\n",
      "종료 토큰 번호 : [8179]\n",
      "단어 집합의 크기 : 8180\n"
     ]
    }
   ],
   "source": [
    "print('시작 토큰 번호 :',START_TOKEN)\n",
    "print('종료 토큰 번호 :',END_TOKEN)\n",
    "print('단어 집합의 크기 :',VOCAB_SIZE)"
   ]
  },
  {
   "cell_type": "markdown",
   "metadata": {
    "id": "y3PONJVjXulv"
   },
   "source": [
    "## **3. 정수 인코딩과 패딩**"
   ]
  },
  {
   "cell_type": "code",
   "execution_count": 17,
   "metadata": {
    "colab": {
     "base_uri": "https://localhost:8080/"
    },
    "id": "qHPv4FkPMVqY",
    "outputId": "a223d0a9-bf21-40e7-efba-56ea2e2cff9c"
   },
   "outputs": [
    {
     "name": "stdout",
     "output_type": "stream",
     "text": [
      "임의의 질문 샘플에 대하여 정수 인코딩: [5766, 611, 3509, 141, 685, 3747, 849]\n"
     ]
    }
   ],
   "source": [
    "# 서브워드텍스트인코더 토크나이저의 .encode()를 사용하여 텍스트 시퀀스를 정수 시퀀스로 변환.\n",
    "print('임의의 질문 샘플에 대하여 정수 인코딩: {}'.format(tokenizer.encode(questions[20])))"
   ]
  },
  {
   "cell_type": "code",
   "execution_count": 18,
   "metadata": {
    "colab": {
     "base_uri": "https://localhost:8080/",
     "height": 35
    },
    "id": "TbFr8fHKsg-G",
    "outputId": "46beb05e-cc3e-498b-e30e-bd6cf7930b4d"
   },
   "outputs": [
    {
     "data": {
      "text/plain": [
       "'가스비 비싼데 감기 걸리겠어'"
      ]
     },
     "execution_count": 18,
     "metadata": {},
     "output_type": "execute_result"
    }
   ],
   "source": [
    "questions[20]"
   ]
  },
  {
   "cell_type": "code",
   "execution_count": 19,
   "metadata": {
    "colab": {
     "base_uri": "https://localhost:8080/"
    },
    "id": "W5UxROO8MViF",
    "outputId": "0d66436d-a438-4c0c-8ac3-632fc8280d52"
   },
   "outputs": [
    {
     "name": "stdout",
     "output_type": "stream",
     "text": [
      "정수 인코딩 후의 문장 [5766, 611, 3509, 141, 685, 3747, 849]\n",
      "기존 문장: 가스비 비싼데 감기 걸리겠어\n"
     ]
    }
   ],
   "source": [
    "# 서브워드텍스트인코더 토크나이저의 .encode()와 decode() 테스트해보기\n",
    "\n",
    "# 임의의 입력 문장을 sample_string에 저장\n",
    "sample_string = questions[20]\n",
    "\n",
    "# encode() : 텍스트 시퀀스 --> 정수 시퀀스\n",
    "tokenized_string = tokenizer.encode(sample_string)\n",
    "print ('정수 인코딩 후의 문장 {}'.format(tokenized_string))\n",
    "\n",
    "# decode() : 정수 시퀀스 --> 텍스트 시퀀스\n",
    "original_string = tokenizer.decode(tokenized_string)\n",
    "print ('기존 문장: {}'.format(original_string))"
   ]
  },
  {
   "cell_type": "code",
   "execution_count": 20,
   "metadata": {
    "colab": {
     "base_uri": "https://localhost:8080/"
    },
    "id": "B-lua8NAMVbV",
    "outputId": "b18afa08-7a5a-4d27-cdb6-8a3aad4a30b5"
   },
   "outputs": [
    {
     "name": "stdout",
     "output_type": "stream",
     "text": [
      "5766 ----> 가스\n",
      "611 ----> 비 \n",
      "3509 ----> 비싼\n",
      "141 ----> 데 \n",
      "685 ----> 감기 \n",
      "3747 ----> 걸리\n",
      "849 ----> 겠어\n"
     ]
    }
   ],
   "source": [
    "# 각 정수는 각 단어와 어떻게 mapping되는지 병렬로 출력\n",
    "# 서브워드텍스트인코더는 의미있는 단위의 서브워드로 토크나이징한다. 띄어쓰기 단위 X 형태소 분석 단위 X\n",
    "for ts in tokenized_string:\n",
    "  print ('{} ----> {}'.format(ts, tokenizer.decode([ts])))"
   ]
  },
  {
   "cell_type": "code",
   "execution_count": 21,
   "metadata": {
    "id": "I-UWtkl2MVUO"
   },
   "outputs": [],
   "source": [
    "# 최대 길이를 40으로 정의\n",
    "MAX_LENGTH = 40\n",
    "\n",
    "# 토큰화 / 정수 인코딩 / 시작 토큰과 종료 토큰 추가 / 패딩\n",
    "def tokenize_and_filter(inputs, outputs):\n",
    "  tokenized_inputs, tokenized_outputs = [], []\n",
    "  \n",
    "  for (sentence1, sentence2) in zip(inputs, outputs):\n",
    "    # encode(토큰화 + 정수 인코딩), 시작 토큰과 종료 토큰 추가\n",
    "    sentence1 = START_TOKEN + tokenizer.encode(sentence1) + END_TOKEN\n",
    "    sentence2 = START_TOKEN + tokenizer.encode(sentence2) + END_TOKEN\n",
    "\n",
    "    tokenized_inputs.append(sentence1)\n",
    "    tokenized_outputs.append(sentence2)\n",
    "  \n",
    "  # 패딩\n",
    "  tokenized_inputs = tf.keras.preprocessing.sequence.pad_sequences(\n",
    "      tokenized_inputs, maxlen=MAX_LENGTH, padding='post')\n",
    "  tokenized_outputs = tf.keras.preprocessing.sequence.pad_sequences(\n",
    "      tokenized_outputs, maxlen=MAX_LENGTH, padding='post')\n",
    "  \n",
    "  return tokenized_inputs, tokenized_outputs"
   ]
  },
  {
   "cell_type": "code",
   "execution_count": 22,
   "metadata": {
    "id": "N_pzXgNtMVMV"
   },
   "outputs": [],
   "source": [
    "questions, answers = tokenize_and_filter(questions, answers)"
   ]
  },
  {
   "cell_type": "code",
   "execution_count": 23,
   "metadata": {
    "colab": {
     "base_uri": "https://localhost:8080/"
    },
    "id": "eW3ikKPtMVBl",
    "outputId": "18a8c085-9867-4d64-a6b1-5d1f59a1fbb8"
   },
   "outputs": [
    {
     "name": "stdout",
     "output_type": "stream",
     "text": [
      "질문 데이터의 크기(shape) : (11823, 40)\n",
      "답변 데이터의 크기(shape) : (11823, 40)\n"
     ]
    }
   ],
   "source": [
    "print('질문 데이터의 크기(shape) :', questions.shape)\n",
    "print('답변 데이터의 크기(shape) :', answers.shape)"
   ]
  },
  {
   "cell_type": "code",
   "execution_count": 24,
   "metadata": {
    "colab": {
     "base_uri": "https://localhost:8080/"
    },
    "id": "HKZRCzyNMiUl",
    "outputId": "2634ac87-2934-437d-dc94-f4f93d95d6b6"
   },
   "outputs": [
    {
     "name": "stdout",
     "output_type": "stream",
     "text": [
      "[8178 7915 4207 3060   41 8179    0    0    0    0    0    0    0    0\n",
      "    0    0    0    0    0    0    0    0    0    0    0    0    0    0\n",
      "    0    0    0    0    0    0    0    0    0    0    0    0]\n",
      "[8178 3844   74 7894    1 8179    0    0    0    0    0    0    0    0\n",
      "    0    0    0    0    0    0    0    0    0    0    0    0    0    0\n",
      "    0    0    0    0    0    0    0    0    0    0    0    0]\n"
     ]
    }
   ],
   "source": [
    "# 0번째 샘플을 임의로 출력\n",
    "print(questions[0])\n",
    "print(answers[0])"
   ]
  },
  {
   "cell_type": "code",
   "execution_count": 25,
   "metadata": {
    "colab": {
     "base_uri": "https://localhost:8080/"
    },
    "id": "0ywchiRxMjl9",
    "outputId": "8b7c141f-9815-4893-ba55-ab097ffe791e"
   },
   "outputs": [
    {
     "name": "stdout",
     "output_type": "stream",
     "text": [
      "단어 집합의 크기(Vocab size): 8180\n",
      "전체 샘플의 수(Number of samples): 11823\n"
     ]
    }
   ],
   "source": [
    "print('단어 집합의 크기(Vocab size): {}'.format(VOCAB_SIZE))\n",
    "print('전체 샘플의 수(Number of samples): {}'.format(len(questions)))"
   ]
  },
  {
   "cell_type": "markdown",
   "metadata": {
    "id": "4hdzcFqcYnoe"
   },
   "source": [
    "## **4. 인코더와 디코더의 입력, 그리고 레이블 만들기**"
   ]
  },
  {
   "cell_type": "code",
   "execution_count": 26,
   "metadata": {
    "id": "dPr57JtvMlzn"
   },
   "outputs": [],
   "source": [
    "# 텐서플로우 dataset을 이용하여 셔플(shuffle)을 수행하되, 배치 크기로 데이터를 묶는다.\n",
    "# 또한 이 과정에서 교사 강요(teacher forcing)을 사용하기 위해서 디코더의 입력과 실제값 시퀀스를 구성한다.\n",
    "BATCH_SIZE = 64\n",
    "BUFFER_SIZE = 20000\n",
    "\n",
    "# 디코더의 실제값 시퀀스에서는 시작 토큰을 제거해야 한다.\n",
    "dataset = tf.data.Dataset.from_tensor_slices((\n",
    "    {\n",
    "        'inputs': questions,\n",
    "        'dec_inputs': answers[:, :-1] # 디코더의 입력. 마지막 패딩 토큰이 제거된다.\n",
    "    },\n",
    "    {\n",
    "        'outputs': answers[:, 1:]  # 맨 처음 토큰이 제거된다. 다시 말해 시작 토큰이 제거된다.\n",
    "    },\n",
    "))\n",
    "\n",
    "dataset = dataset.cache()\n",
    "dataset = dataset.shuffle(BUFFER_SIZE)\n",
    "dataset = dataset.batch(BATCH_SIZE)\n",
    "dataset = dataset.prefetch(tf.data.experimental.AUTOTUNE)"
   ]
  },
  {
   "cell_type": "code",
   "execution_count": 27,
   "metadata": {
    "colab": {
     "base_uri": "https://localhost:8080/"
    },
    "id": "vR_HdWwsMni8",
    "outputId": "7f3514a8-b620-4c45-d89b-144604b26714"
   },
   "outputs": [
    {
     "name": "stdout",
     "output_type": "stream",
     "text": [
      "[8178 3844   74 7894    1 8179    0    0    0    0    0    0    0    0\n",
      "    0    0    0    0    0    0    0    0    0    0    0    0    0    0\n",
      "    0    0    0    0    0    0    0    0    0    0    0    0]\n",
      "[[8178 3844   74 7894    1 8179    0    0    0    0    0    0    0    0\n",
      "     0    0    0    0    0    0    0    0    0    0    0    0    0    0\n",
      "     0    0    0    0    0    0    0    0    0    0    0]]\n",
      "[[3844   74 7894    1 8179    0    0    0    0    0    0    0    0    0\n",
      "     0    0    0    0    0    0    0    0    0    0    0    0    0    0\n",
      "     0    0    0    0    0    0    0    0    0    0    0]]\n"
     ]
    }
   ],
   "source": [
    "# 임의의 샘플에 대해서 [:, :-1]과 [:, 1:]이 어떤 의미를 가지는지 테스트해본다.\n",
    "print(answers[0]) # 기존 샘플\n",
    "print(answers[:1][:, :-1]) # 마지막 패딩 토큰 제거하면서 길이가 39가 된다.\n",
    "print(answers[:1][:, 1:]) # 맨 처음 토큰이 제거된다. 다시 말해 시작 토큰이 제거된다. 길이는 역시 39가 된다."
   ]
  },
  {
   "cell_type": "markdown",
   "metadata": {
    "id": "TV7QDWLWYwJg"
   },
   "source": [
    "## **5. 트랜스포머 만들기**"
   ]
  },
  {
   "cell_type": "markdown",
   "metadata": {
    "id": "CKAmC6B7KuzV"
   },
   "source": [
    "### **5.1 Encoder**"
   ]
  },
  {
   "cell_type": "markdown",
   "metadata": {
    "id": "YOzMbJSoMMSH"
   },
   "source": [
    "#### 5.1.1 Positional Encoding"
   ]
  },
  {
   "cell_type": "code",
   "execution_count": 28,
   "metadata": {
    "id": "ydzK2dJMDGMU"
   },
   "outputs": [],
   "source": [
    "class PositionalEncoding(tf.keras.layers.Layer):\n",
    "  def __init__(self, position, d_model):\n",
    "    super(PositionalEncoding, self).__init__()\n",
    "    self.pos_encoding = self.positional_encoding(position, d_model)\n",
    "\n",
    "  def get_angles(self, position, i, d_model):\n",
    "    angles = 1 / tf.pow(10000, (2 * (i // 2)) / tf.cast(d_model, tf.float32))\n",
    "    return position * angles\n",
    "\n",
    "  def positional_encoding(self, position, d_model):\n",
    "    angle_rads = self.get_angles(\n",
    "        position=tf.range(position, dtype=tf.float32)[:, tf.newaxis],\n",
    "        i=tf.range(d_model, dtype=tf.float32)[tf.newaxis, :],\n",
    "        d_model=d_model)\n",
    "\n",
    "    # 배열의 짝수 인덱스(2i)에는 사인 함수 적용\n",
    "    sines = tf.math.sin(angle_rads[:, 0::2])\n",
    "\n",
    "    # 배열의 홀수 인덱스(2i+1)에는 코사인 함수 적용\n",
    "    cosines = tf.math.cos(angle_rads[:, 1::2])\n",
    "\n",
    "    angle_rads = np.zeros(angle_rads.shape)\n",
    "    angle_rads[:, 0::2] = sines\n",
    "    angle_rads[:, 1::2] = cosines\n",
    "    pos_encoding = tf.constant(angle_rads)\n",
    "    pos_encoding = pos_encoding[tf.newaxis, ...]\n",
    "\n",
    "    print(pos_encoding.shape)\n",
    "    return tf.cast(pos_encoding, tf.float32)\n",
    "\n",
    "  def call(self, inputs):\n",
    "    return inputs + self.pos_encoding[:, :tf.shape(inputs)[1], :]"
   ]
  },
  {
   "cell_type": "markdown",
   "metadata": {
    "id": "YXc-V0-cMumf"
   },
   "source": [
    "#### 5.1.2. Attention"
   ]
  },
  {
   "cell_type": "markdown",
   "metadata": {
    "id": "Rn6eXNYfW6JV"
   },
   "source": [
    "##### 5.1.2.1 Scaled dot-product Attention"
   ]
  },
  {
   "cell_type": "code",
   "execution_count": 29,
   "metadata": {
    "id": "xbASEd4CDPyq"
   },
   "outputs": [],
   "source": [
    "def scaled_dot_product_attention(query, key, value, mask):\n",
    "  # query 크기 : (batch_size, num_heads, query의 문장 길이, d_model/num_heads)\n",
    "  # key 크기 : (batch_size, num_heads, key의 문장 길이, d_model/num_heads)\n",
    "  # value 크기 : (batch_size, num_heads, value의 문장 길이, d_model/num_heads)\n",
    "  # padding_mask : (batch_size, 1, 1, key의 문장 길이)\n",
    "\n",
    "  # Q와 K의 곱. 어텐션 스코어 행렬.\n",
    "  matmul_qk = tf.matmul(query, key, transpose_b=True)\n",
    "\n",
    "  # 스케일링\n",
    "  # dk의 루트값으로 나눠준다.\n",
    "  depth = tf.cast(tf.shape(key)[-1], tf.float32)\n",
    "  logits = matmul_qk / tf.math.sqrt(depth)\n",
    "\n",
    "  # 마스킹. 어텐션 스코어 행렬의 마스킹 할 위치에 매우 작은 음수값을 넣는다.\n",
    "  # 매우 작은 값이므로 소프트맥스 함수를 지나면 행렬의 해당 위치의 값은 0이 된다.\n",
    "  if mask is not None:\n",
    "    logits += (mask * -1e9)\n",
    "\n",
    "  # 소프트맥스 함수는 마지막 차원인 key의 문장 길이 방향으로 수행된다.\n",
    "  # attention weight : (batch_size, num_heads, query의 문장 길이, key의 문장 길이)\n",
    "  attention_weights = tf.nn.softmax(logits, axis=-1)\n",
    "\n",
    "  # output : (batch_size, num_heads, query의 문장 길이, d_model/num_heads)\n",
    "  output = tf.matmul(attention_weights, value)\n",
    "\n",
    "  return output, attention_weights"
   ]
  },
  {
   "cell_type": "code",
   "execution_count": 30,
   "metadata": {
    "id": "GaRT_ON9WpLA"
   },
   "outputs": [],
   "source": [
    "# 임의의 Query, Key, Value인 Q, K, V 행렬 생성\n",
    "np.set_printoptions(suppress=True)\n",
    "temp_k = tf.constant([[10,0,0],\n",
    "                      [0,10,0],\n",
    "                      [0,0,10],\n",
    "                      [0,0,10]], dtype=tf.float32)  # (4, 3)\n",
    "\n",
    "temp_v = tf.constant([[   1,0],\n",
    "                      [  10,0],\n",
    "                      [ 100,5],\n",
    "                      [1000,6]], dtype=tf.float32)  # (4, 2)\n",
    "temp_q = tf.constant([[0, 10, 0]], dtype=tf.float32)  # (1, 3)"
   ]
  },
  {
   "cell_type": "code",
   "execution_count": 31,
   "metadata": {
    "colab": {
     "base_uri": "https://localhost:8080/"
    },
    "id": "hRrACMXDWvL2",
    "outputId": "b426b712-ea9c-4514-b426-f460b8882110"
   },
   "outputs": [
    {
     "name": "stdout",
     "output_type": "stream",
     "text": [
      "tf.Tensor([[0. 1. 0. 0.]], shape=(1, 4), dtype=float32)\n",
      "tf.Tensor([[10.  0.]], shape=(1, 2), dtype=float32)\n"
     ]
    }
   ],
   "source": [
    "# 함수 실행\n",
    "temp_out, temp_attn = scaled_dot_product_attention(temp_q, temp_k, temp_v, None)\n",
    "print(temp_attn) # 어텐션 분포(어텐션 가중치의 나열)\n",
    "print(temp_out) # 어텐션 값"
   ]
  },
  {
   "cell_type": "code",
   "execution_count": 32,
   "metadata": {
    "colab": {
     "base_uri": "https://localhost:8080/"
    },
    "id": "D6HXWYFsWx3f",
    "outputId": "52e4b3a8-05db-4b6c-eaac-dac74c66fdd1"
   },
   "outputs": [
    {
     "name": "stdout",
     "output_type": "stream",
     "text": [
      "tf.Tensor([[0.  0.  0.5 0.5]], shape=(1, 4), dtype=float32)\n",
      "tf.Tensor([[550.    5.5]], shape=(1, 2), dtype=float32)\n"
     ]
    }
   ],
   "source": [
    "temp_q = tf.constant([[0, 0, 10]], dtype=tf.float32)\n",
    "temp_out, temp_attn = scaled_dot_product_attention(temp_q, temp_k, temp_v, None)\n",
    "print(temp_attn) # 어텐션 분포(어텐션 가중치의 나열)\n",
    "print(temp_out) # 어텐션 값"
   ]
  },
  {
   "cell_type": "code",
   "execution_count": 33,
   "metadata": {
    "colab": {
     "base_uri": "https://localhost:8080/"
    },
    "id": "nBH8sYPIW2A3",
    "outputId": "edabf7f1-e301-45b9-91d7-969623ba7c47"
   },
   "outputs": [
    {
     "name": "stdout",
     "output_type": "stream",
     "text": [
      "tf.Tensor(\n",
      "[[0.  0.  0.5 0.5]\n",
      " [0.  1.  0.  0. ]\n",
      " [0.5 0.5 0.  0. ]], shape=(3, 4), dtype=float32)\n",
      "tf.Tensor(\n",
      "[[550.    5.5]\n",
      " [ 10.    0. ]\n",
      " [  5.5   0. ]], shape=(3, 2), dtype=float32)\n"
     ]
    }
   ],
   "source": [
    "temp_q = tf.constant([[0, 0, 10], [0, 10, 0], [10, 10, 0]], dtype=tf.float32)  # (3, 3)\n",
    "temp_out, temp_attn = scaled_dot_product_attention(temp_q, temp_k, temp_v, None)\n",
    "print(temp_attn) # 어텐션 분포(어텐션 가중치의 나열)\n",
    "print(temp_out) # 어텐션 값"
   ]
  },
  {
   "cell_type": "markdown",
   "metadata": {
    "id": "kHunkJptdSkM"
   },
   "source": [
    "##### 5.1.2.2 Multi-head Attention"
   ]
  },
  {
   "cell_type": "code",
   "execution_count": 34,
   "metadata": {
    "id": "bUwiMvHwXryA"
   },
   "outputs": [],
   "source": [
    "class MultiHeadAttention(tf.keras.layers.Layer):\n",
    "\n",
    "  def __init__(self, d_model, num_heads, name=\"multi_head_attention\"):\n",
    "    super(MultiHeadAttention, self).__init__(name=name)\n",
    "    self.num_heads = num_heads\n",
    "    self.d_model = d_model\n",
    "\n",
    "    assert d_model % self.num_heads == 0\n",
    "\n",
    "    # d_model을 num_heads로 나눈 값.\n",
    "    # 논문 기준 : 64\n",
    "    self.depth = d_model // self.num_heads\n",
    "\n",
    "    # WQ, WK, WV에 해당하는 밀집층 정의\n",
    "    self.query_dense = tf.keras.layers.Dense(units=d_model)\n",
    "    self.key_dense = tf.keras.layers.Dense(units=d_model)\n",
    "    self.value_dense = tf.keras.layers.Dense(units=d_model)\n",
    "\n",
    "    # WO에 해당하는 밀집층 정의\n",
    "    self.dense = tf.keras.layers.Dense(units=d_model)\n",
    "\n",
    "  # num_heads 개수만큼 q, k, v를 split하는 함수\n",
    "  def split_heads(self, inputs, batch_size):\n",
    "    inputs = tf.reshape(\n",
    "        inputs, shape=(batch_size, -1, self.num_heads, self.depth))\n",
    "    return tf.transpose(inputs, perm=[0, 2, 1, 3])\n",
    "\n",
    "  def call(self, inputs):\n",
    "    query, key, value, mask = inputs['query'], inputs['key'], inputs[\n",
    "        'value'], inputs['mask']\n",
    "    batch_size = tf.shape(query)[0]\n",
    "\n",
    "    # 1. WQ, WK, WV에 해당하는 밀집층 지나기\n",
    "    # q : (batch_size, query의 문장 길이, d_model)\n",
    "    # k : (batch_size, key의 문장 길이, d_model)\n",
    "    # v : (batch_size, value의 문장 길이, d_model)\n",
    "    # 참고) 인코더(k, v)-디코더(q) 어텐션에서는 query 길이와 key, value의 길이는 다를 수 있다.\n",
    "    query = self.query_dense(query)\n",
    "    key = self.key_dense(key)\n",
    "    value = self.value_dense(value)\n",
    "\n",
    "    # 2. 헤드 나누기\n",
    "    # q : (batch_size, num_heads, query의 문장 길이, d_model/num_heads)\n",
    "    # k : (batch_size, num_heads, key의 문장 길이, d_model/num_heads)\n",
    "    # v : (batch_size, num_heads, value의 문장 길이, d_model/num_heads)\n",
    "    query = self.split_heads(query, batch_size)\n",
    "    key = self.split_heads(key, batch_size)\n",
    "    value = self.split_heads(value, batch_size)\n",
    "\n",
    "    # 3. 스케일드 닷 프로덕트 어텐션. 앞서 구현한 함수 사용.\n",
    "    # (batch_size, num_heads, query의 문장 길이, d_model/num_heads)\n",
    "    scaled_attention, _ = scaled_dot_product_attention(query, key, value, mask)\n",
    "    # (batch_size, query의 문장 길이, num_heads, d_model/num_heads)\n",
    "    scaled_attention = tf.transpose(scaled_attention, perm=[0, 2, 1, 3])\n",
    "\n",
    "    # 4. 헤드 연결(concatenate)하기\n",
    "    # (batch_size, query의 문장 길이, d_model)\n",
    "    concat_attention = tf.reshape(scaled_attention,\n",
    "                                  (batch_size, -1, self.d_model))\n",
    "\n",
    "    # 5. WO에 해당하는 밀집층 지나기\n",
    "    # (batch_size, query의 문장 길이, d_model)\n",
    "    outputs = self.dense(concat_attention)\n",
    "\n",
    "    return outputs"
   ]
  },
  {
   "cell_type": "markdown",
   "metadata": {
    "id": "oo3fFNpGgZ7U"
   },
   "source": [
    "##### 5.1.2.3 Padding Mask"
   ]
  },
  {
   "cell_type": "code",
   "execution_count": 37,
   "metadata": {
    "id": "Tl_cobVneCcn"
   },
   "outputs": [],
   "source": [
    "def create_padding_mask(x):\n",
    "    mask = tf.cast(tf.math.equal(x, 0), tf.float32)\n",
    "  # (batch_size, 1, 1, key의 문장 길이)\n",
    "    return mask[:, tf.newaxis, tf.newaxis, :]"
   ]
  },
  {
   "cell_type": "code",
   "execution_count": 38,
   "metadata": {
    "colab": {
     "base_uri": "https://localhost:8080/"
    },
    "id": "COG-DBrEgp3V",
    "outputId": "8a324600-e7b3-4806-b4c6-7ca891e4f753"
   },
   "outputs": [
    {
     "name": "stdout",
     "output_type": "stream",
     "text": [
      "tf.Tensor([[[[0. 0. 0. 1. 1.]]]], shape=(1, 1, 1, 5), dtype=float32)\n"
     ]
    }
   ],
   "source": [
    "print(create_padding_mask(tf.constant([[1, 21, 777, 0, 0]])))"
   ]
  },
  {
   "cell_type": "markdown",
   "metadata": {
    "id": "jvWMRRhkO6IL"
   },
   "source": [
    "#### 5.1.3. Encoder Layer"
   ]
  },
  {
   "cell_type": "code",
   "execution_count": 39,
   "metadata": {
    "id": "iuP5US3WkJuy"
   },
   "outputs": [],
   "source": [
    "def encoder_layer(dff, d_model, num_heads, dropout, name=\"encoder_layer\"):\n",
    "  inputs = tf.keras.Input(shape=(None, d_model), name=\"inputs\")\n",
    "\n",
    "  # 인코더는 패딩 마스크 사용\n",
    "  padding_mask = tf.keras.Input(shape=(1, 1, None), name=\"padding_mask\")\n",
    "\n",
    "  # 멀티-헤드 어텐션 (첫번째 서브층 / 셀프 어텐션)\n",
    "  attention = MultiHeadAttention(\n",
    "      d_model, num_heads, name=\"attention\")({\n",
    "          'query': inputs, 'key': inputs, 'value': inputs, # Q = K = V\n",
    "          'mask': padding_mask # 패딩 마스크 사용\n",
    "      })\n",
    "\n",
    "  # 드롭아웃 + 잔차 연결과 층 정규화\n",
    "  attention = tf.keras.layers.Dropout(rate=dropout)(attention)\n",
    "  attention = tf.keras.layers.LayerNormalization(\n",
    "      epsilon=1e-6)(inputs + attention)\n",
    "\n",
    "  # 포지션 와이즈 피드 포워드 신경망 (두번째 서브층)\n",
    "  outputs = tf.keras.layers.Dense(units=dff, activation='relu')(attention)\n",
    "  outputs = tf.keras.layers.Dense(units=d_model)(outputs)\n",
    "\n",
    "  # 드롭아웃 + 잔차 연결과 층 정규화\n",
    "  outputs = tf.keras.layers.Dropout(rate=dropout)(outputs)\n",
    "  outputs = tf.keras.layers.LayerNormalization(\n",
    "      epsilon=1e-6)(attention + outputs)\n",
    "\n",
    "  return tf.keras.Model(\n",
    "      inputs=[inputs, padding_mask], outputs=outputs, name=name)"
   ]
  },
  {
   "cell_type": "markdown",
   "metadata": {
    "id": "K6sBboLmp8kn"
   },
   "source": [
    "#### 5.1.4. Encoder Stacking"
   ]
  },
  {
   "cell_type": "code",
   "execution_count": 40,
   "metadata": {
    "id": "yca3FsIbp738"
   },
   "outputs": [],
   "source": [
    "def encoder(vocab_size, num_layers, dff,\n",
    "            d_model, num_heads, dropout,\n",
    "            name=\"encoder\"):\n",
    "  inputs = tf.keras.Input(shape=(None,), name=\"inputs\")\n",
    "\n",
    "  # 인코더는 패딩 마스크 사용\n",
    "  padding_mask = tf.keras.Input(shape=(1, 1, None), name=\"padding_mask\")\n",
    "\n",
    "  # 포지셔널 인코딩 + 드롭아웃\n",
    "  embeddings = tf.keras.layers.Embedding(vocab_size, d_model)(inputs)\n",
    "  embeddings *= tf.math.sqrt(tf.cast(d_model, tf.float32))\n",
    "  embeddings = PositionalEncoding(vocab_size, d_model)(embeddings)\n",
    "  outputs = tf.keras.layers.Dropout(rate=dropout)(embeddings)\n",
    "\n",
    "  # 인코더를 num_layers개 쌓기\n",
    "  for i in range(num_layers):\n",
    "    outputs = encoder_layer(dff=dff, d_model=d_model, num_heads=num_heads,\n",
    "        dropout=dropout, name=\"encoder_layer_{}\".format(i),\n",
    "    )([outputs, padding_mask])\n",
    "\n",
    "  return tf.keras.Model(\n",
    "      inputs=[inputs, padding_mask], outputs=outputs, name=name)"
   ]
  },
  {
   "cell_type": "markdown",
   "metadata": {
    "id": "sNhokWWbKopn"
   },
   "source": [
    "### **5.2 Decoder**"
   ]
  },
  {
   "cell_type": "markdown",
   "metadata": {
    "id": "wzXrG2BHLN2O"
   },
   "source": [
    "#### 5.2.1 Look-ahead Mask\n"
   ]
  },
  {
   "cell_type": "code",
   "execution_count": 41,
   "metadata": {
    "id": "vGQljPW2p_wJ"
   },
   "outputs": [],
   "source": [
    "# 디코더의 첫번째 서브층(sublayer)에서 미래 토큰을 Mask하는 함수\n",
    "def create_look_ahead_mask(x):\n",
    "  seq_len = tf.shape(x)[1]\n",
    "  look_ahead_mask = 1 - tf.linalg.band_part(tf.ones((seq_len, seq_len)), -1, 0)\n",
    "  padding_mask = create_padding_mask(x) # 패딩 마스크도 포함\n",
    "  return tf.maximum(look_ahead_mask, padding_mask)"
   ]
  },
  {
   "cell_type": "markdown",
   "metadata": {
    "id": "IZHnHeB2LXEG"
   },
   "source": [
    "#### 5.2.2 Decoder Layer"
   ]
  },
  {
   "cell_type": "code",
   "execution_count": 42,
   "metadata": {
    "id": "vQ1wU8UZLWQ-"
   },
   "outputs": [],
   "source": [
    "def decoder_layer(dff, d_model, num_heads, dropout, name=\"decoder_layer\"):\n",
    "  inputs = tf.keras.Input(shape=(None, d_model), name=\"inputs\")\n",
    "  enc_outputs = tf.keras.Input(shape=(None, d_model), name=\"encoder_outputs\")\n",
    "\n",
    "  # 디코더는 룩어헤드 마스크(첫번째 서브층)와 패딩 마스크(두번째 서브층) 둘 다 사용.\n",
    "  look_ahead_mask = tf.keras.Input(\n",
    "      shape=(1, None, None), name=\"look_ahead_mask\")\n",
    "  padding_mask = tf.keras.Input(shape=(1, 1, None), name='padding_mask')\n",
    "\n",
    "  # 멀티-헤드 어텐션 (첫번째 서브층 / 마스크드 셀프 어텐션)\n",
    "  attention1 = MultiHeadAttention(\n",
    "      d_model, num_heads, name=\"attention_1\")(inputs={\n",
    "          'query': inputs, 'key': inputs, 'value': inputs, # Q = K = V\n",
    "          'mask': look_ahead_mask # 룩어헤드 마스크\n",
    "      })\n",
    "\n",
    "  attention1 = tf.keras.layers.Dropout(rate=dropout)(attention1)\n",
    "  # 잔차 연결과 층 정규화\n",
    "  attention1 = tf.keras.layers.LayerNormalization(\n",
    "      epsilon=1e-6)(attention1 + inputs)\n",
    "\n",
    "  # 멀티-헤드 어텐션 (두번째 서브층 / 디코더-인코더 어텐션)\n",
    "  attention2 = MultiHeadAttention(\n",
    "      d_model, num_heads, name=\"attention_2\")(inputs={\n",
    "          'query': attention1, 'key': enc_outputs, 'value': enc_outputs, # Q != K = V\n",
    "          'mask': padding_mask # 패딩 마스크\n",
    "      })\n",
    "\n",
    "  # 드롭아웃 + 잔차 연결과 층 정규화\n",
    "  attention2 = tf.keras.layers.Dropout(rate=dropout)(attention2)\n",
    "  attention2 = tf.keras.layers.LayerNormalization(\n",
    "      epsilon=1e-6)(attention2 + attention1)\n",
    "\n",
    "  # 포지션 와이즈 피드 포워드 신경망 (세번째 서브층)\n",
    "  outputs = tf.keras.layers.Dense(units=dff, activation='relu')(attention2)\n",
    "  outputs = tf.keras.layers.Dense(units=d_model)(outputs)\n",
    "\n",
    "  # 드롭아웃 + 잔차 연결과 층 정규화\n",
    "  outputs = tf.keras.layers.Dropout(rate=dropout)(outputs)\n",
    "  outputs = tf.keras.layers.LayerNormalization(\n",
    "      epsilon=1e-6)(outputs + attention2)\n",
    "\n",
    "  return tf.keras.Model(\n",
    "      inputs=[inputs, enc_outputs, look_ahead_mask, padding_mask],\n",
    "      outputs=outputs,\n",
    "      name=name)"
   ]
  },
  {
   "cell_type": "markdown",
   "metadata": {
    "id": "xJZvDEsALege"
   },
   "source": [
    "#### 5.2.3 Decoder Stacking"
   ]
  },
  {
   "cell_type": "code",
   "execution_count": 43,
   "metadata": {
    "id": "G8Uz4aoSLdKI"
   },
   "outputs": [],
   "source": [
    "def decoder(vocab_size, num_layers, dff,\n",
    "            d_model, num_heads, dropout,\n",
    "            name='decoder'):\n",
    "  inputs = tf.keras.Input(shape=(None,), name='inputs')\n",
    "  enc_outputs = tf.keras.Input(shape=(None, d_model), name='encoder_outputs')\n",
    "\n",
    "  # 디코더는 룩어헤드 마스크(첫번째 서브층)와 패딩 마스크(두번째 서브층) 둘 다 사용.\n",
    "  look_ahead_mask = tf.keras.Input(\n",
    "      shape=(1, None, None), name='look_ahead_mask')\n",
    "  padding_mask = tf.keras.Input(shape=(1, 1, None), name='padding_mask')\n",
    "\n",
    "  # 포지셔널 인코딩 + 드롭아웃\n",
    "  embeddings = tf.keras.layers.Embedding(vocab_size, d_model)(inputs)\n",
    "  embeddings *= tf.math.sqrt(tf.cast(d_model, tf.float32))\n",
    "  embeddings = PositionalEncoding(vocab_size, d_model)(embeddings)\n",
    "  outputs = tf.keras.layers.Dropout(rate=dropout)(embeddings)\n",
    "\n",
    "  # 디코더를 num_layers개 쌓기\n",
    "  for i in range(num_layers):\n",
    "    outputs = decoder_layer(dff=dff, d_model=d_model, num_heads=num_heads,\n",
    "        dropout=dropout, name='decoder_layer_{}'.format(i),\n",
    "    )(inputs=[outputs, enc_outputs, look_ahead_mask, padding_mask])\n",
    "\n",
    "  return tf.keras.Model(\n",
    "      inputs=[inputs, enc_outputs, look_ahead_mask, padding_mask],\n",
    "      outputs=outputs,\n",
    "      name=name)"
   ]
  },
  {
   "cell_type": "markdown",
   "metadata": {
    "id": "0mZeAHTGLnNm"
   },
   "source": [
    "### **5.3 Transformer**"
   ]
  },
  {
   "cell_type": "code",
   "execution_count": 44,
   "metadata": {
    "id": "pFUzY71MLkls"
   },
   "outputs": [],
   "source": [
    "def transformer(vocab_size, num_layers, dff,\n",
    "                d_model, num_heads, dropout,\n",
    "                name=\"transformer\"):\n",
    "\n",
    "  # 인코더의 입력\n",
    "  inputs = tf.keras.Input(shape=(None,), name=\"inputs\")\n",
    "\n",
    "  # 디코더의 입력\n",
    "  dec_inputs = tf.keras.Input(shape=(None,), name=\"dec_inputs\")\n",
    "\n",
    "  # 인코더의 패딩 마스크\n",
    "  enc_padding_mask = tf.keras.layers.Lambda(\n",
    "      create_padding_mask, output_shape=(1, 1, None),\n",
    "      name='enc_padding_mask')(inputs)\n",
    "\n",
    "  # 디코더의 룩어헤드 마스크(첫번째 서브층)\n",
    "  look_ahead_mask = tf.keras.layers.Lambda(\n",
    "      create_look_ahead_mask, output_shape=(1, None, None),\n",
    "      name='look_ahead_mask')(dec_inputs)\n",
    "\n",
    "  # 디코더의 패딩 마스크(두번째 서브층)\n",
    "  dec_padding_mask = tf.keras.layers.Lambda(\n",
    "      create_padding_mask, output_shape=(1, 1, None),\n",
    "      name='dec_padding_mask')(inputs)\n",
    "\n",
    "  # 인코더의 출력은 enc_outputs. 디코더로 전달된다.\n",
    "  enc_outputs = encoder(vocab_size=vocab_size, num_layers=num_layers, dff=dff,\n",
    "      d_model=d_model, num_heads=num_heads, dropout=dropout,\n",
    "  )(inputs=[inputs, enc_padding_mask]) # 인코더의 입력은 입력 문장과 패딩 마스크\n",
    "\n",
    "  # 디코더의 출력은 dec_outputs. 출력층으로 전달된다.\n",
    "  dec_outputs = decoder(vocab_size=vocab_size, num_layers=num_layers, dff=dff,\n",
    "      d_model=d_model, num_heads=num_heads, dropout=dropout,\n",
    "  )(inputs=[dec_inputs, enc_outputs, look_ahead_mask, dec_padding_mask])\n",
    "\n",
    "  # 다음 단어 예측을 위한 출력층\n",
    "  outputs = tf.keras.layers.Dense(units=vocab_size, name=\"outputs\")(dec_outputs)\n",
    "\n",
    "  return tf.keras.Model(inputs=[inputs, dec_inputs], outputs=outputs, name=name)"
   ]
  },
  {
   "cell_type": "markdown",
   "metadata": {
    "id": "mce0ZJ05bFSe"
   },
   "source": [
    "- 하이퍼 파라미터 결정\n",
    "  - 단어 집합의 크기: 9,000\n",
    "  - $d_{model}=128$\n",
    "  - num_layers=4\n",
    "  - num_heads=4\n",
    "  - $d_{ff}=128$\n",
    "  - $d_v=32$ (128/4)\n"
   ]
  },
  {
   "cell_type": "code",
   "execution_count": 45,
   "metadata": {
    "colab": {
     "base_uri": "https://localhost:8080/",
     "height": 372
    },
    "id": "yPohP0IyLtlt",
    "outputId": "cd1fc0dd-be04-4cfc-999b-12f7abe3e4ca"
   },
   "outputs": [
    {
     "name": "stdout",
     "output_type": "stream",
     "text": [
      "(1, 9000, 128)\n",
      "(1, 9000, 128)\n",
      "You must install pydot (`pip install pydot`) and install graphviz (see instructions at https://graphviz.gitlab.io/download/) for plot_model to work.\n"
     ]
    }
   ],
   "source": [
    "small_transformer = transformer(\n",
    "    vocab_size = 9000,\n",
    "    num_layers = 10,\n",
    "    dff = 128,\n",
    "    d_model = 128,\n",
    "    num_heads = 4,\n",
    "    dropout = 0.3,\n",
    "    name=\"small_transformer\")\n",
    "\n",
    "tf.keras.utils.plot_model(\n",
    "    small_transformer, to_file='small_transformer.png', show_shapes=True)"
   ]
  },
  {
   "cell_type": "code",
   "execution_count": 46,
   "metadata": {
    "id": "enVk9NQTLv5u"
   },
   "outputs": [],
   "source": [
    "def loss_function(y_true, y_pred):\n",
    "  y_true = tf.reshape(y_true, shape=(-1, MAX_LENGTH - 1))\n",
    "\n",
    "  loss = tf.keras.losses.SparseCategoricalCrossentropy(\n",
    "      from_logits=True, reduction='none')(y_true, y_pred)\n",
    "\n",
    "  mask = tf.cast(tf.not_equal(y_true, 0), tf.float32)\n",
    "  loss = tf.multiply(loss, mask)\n",
    "\n",
    "  return tf.reduce_mean(loss)"
   ]
  },
  {
   "cell_type": "code",
   "execution_count": 47,
   "metadata": {
    "id": "7zgBQz7wLz3m"
   },
   "outputs": [],
   "source": [
    "class CustomSchedule(tf.keras.optimizers.schedules.LearningRateSchedule):\n",
    "\n",
    "    def __init__(self, d_model, warmup_steps=4000):\n",
    "        super(CustomSchedule, self).__init__()\n",
    "        self.d_model = d_model\n",
    "        self.d_model = tf.cast(self.d_model, tf.float32)\n",
    "        self.warmup_steps = warmup_steps\n",
    "\n",
    "    def __call__(self, step):\n",
    "        arg1 = tf.math.rsqrt(step)\n",
    "        arg2 = step * (self.warmup_steps**-1.5)\n",
    "\n",
    "        return tf.math.rsqrt(self.d_model) * tf.math.minimum(arg1, arg2)"
   ]
  },
  {
   "cell_type": "markdown",
   "metadata": {
    "id": "t5YjYie1OT-M"
   },
   "source": [
    "## **6. 챗봇 구성하기**"
   ]
  },
  {
   "cell_type": "markdown",
   "metadata": {
    "id": "5luzWyD-OiQD"
   },
   "source": [
    "- 하이퍼파라미터를 조정하여 실제 논문의 트랜스포머보다는 작은 모델로 구현\n",
    "  - $d_{model}=256$\n",
    "  - num_layers=2\n",
    "  - num_heads=8\n",
    "  - $d_{ff}=512$"
   ]
  },
  {
   "cell_type": "code",
   "execution_count": 48,
   "metadata": {
    "colab": {
     "base_uri": "https://localhost:8080/"
    },
    "id": "cGLAE6QdMqG8",
    "outputId": "1fd8583f-ec1a-4b48-c389-9d69c984cf94"
   },
   "outputs": [
    {
     "name": "stdout",
     "output_type": "stream",
     "text": [
      "(1, 8180, 256)\n",
      "(1, 8180, 256)\n"
     ]
    }
   ],
   "source": [
    "tf.keras.backend.clear_session()\n",
    "\n",
    "# Hyper-parameters\n",
    "NUM_LAYERS = 3\n",
    "D_MODEL = 256\n",
    "NUM_HEADS = 8\n",
    "DFF = 512\n",
    "DROPOUT = 0.1\n",
    "\n",
    "model = transformer(\n",
    "    vocab_size=VOCAB_SIZE,\n",
    "    num_layers=NUM_LAYERS,\n",
    "    dff=DFF,\n",
    "    d_model=D_MODEL,\n",
    "    num_heads=NUM_HEADS,\n",
    "    dropout=DROPOUT)"
   ]
  },
  {
   "cell_type": "code",
   "execution_count": null,
   "metadata": {},
   "outputs": [],
   "source": []
  },
  {
   "cell_type": "code",
   "execution_count": 49,
   "metadata": {
    "id": "vpU5mtIdMrsm"
   },
   "outputs": [],
   "source": [
    "MAX_LENGTH = 40\n",
    "\n",
    "learning_rate = CustomSchedule(D_MODEL)\n",
    "\n",
    "optimizer = tf.keras.optimizers.Adam(\n",
    "    learning_rate, beta_1=0.9, beta_2=0.98, epsilon=1e-9)\n",
    "\n",
    "def accuracy(y_true, y_pred):\n",
    "  # ensure labels have shape (batch_size, MAX_LENGTH - 1)\n",
    "  y_true = tf.reshape(y_true, shape=(-1, MAX_LENGTH - 1))\n",
    "  return tf.keras.metrics.sparse_categorical_accuracy(y_true, y_pred)\n",
    "\n",
    "model.compile(optimizer=optimizer, loss=loss_function, metrics=[accuracy])"
   ]
  },
  {
   "cell_type": "code",
   "execution_count": 50,
   "metadata": {},
   "outputs": [
    {
     "name": "stdout",
     "output_type": "stream",
     "text": [
      "GPU를 사용한 학습\n",
      "Epoch 1/200\n",
      "185/185 [==============================] - 42s 129ms/step - loss: 1.4614 - accuracy: 0.0238\n",
      "Epoch 2/200\n",
      "185/185 [==============================] - 26s 138ms/step - loss: 1.1883 - accuracy: 0.0495\n",
      "Epoch 3/200\n",
      "185/185 [==============================] - 25s 137ms/step - loss: 1.0119 - accuracy: 0.0507\n",
      "Epoch 4/200\n",
      "185/185 [==============================] - 25s 137ms/step - loss: 0.9408 - accuracy: 0.0538\n",
      "Epoch 5/200\n",
      "185/185 [==============================] - 25s 136ms/step - loss: 0.8909 - accuracy: 0.0565\n",
      "Epoch 6/200\n",
      "185/185 [==============================] - 25s 135ms/step - loss: 0.8394 - accuracy: 0.0593\n",
      "Epoch 7/200\n",
      "185/185 [==============================] - 25s 135ms/step - loss: 0.7848 - accuracy: 0.0633\n",
      "Epoch 8/200\n",
      "185/185 [==============================] - 25s 135ms/step - loss: 0.7232 - accuracy: 0.0689\n",
      "Epoch 9/200\n",
      "185/185 [==============================] - 25s 136ms/step - loss: 0.6558 - accuracy: 0.0759\n",
      "Epoch 10/200\n",
      "185/185 [==============================] - 25s 135ms/step - loss: 0.5823 - accuracy: 0.0842\n",
      "Epoch 11/200\n",
      "185/185 [==============================] - 25s 135ms/step - loss: 0.5083 - accuracy: 0.0928\n",
      "Epoch 12/200\n",
      "185/185 [==============================] - 25s 135ms/step - loss: 0.4344 - accuracy: 0.1023\n",
      "Epoch 13/200\n",
      "185/185 [==============================] - 26s 140ms/step - loss: 0.3636 - accuracy: 0.1120\n",
      "Epoch 14/200\n",
      "185/185 [==============================] - 26s 139ms/step - loss: 0.2973 - accuracy: 0.1208\n",
      "Epoch 15/200\n",
      "185/185 [==============================] - 25s 135ms/step - loss: 0.2382 - accuracy: 0.1293\n",
      "Epoch 16/200\n",
      "185/185 [==============================] - 25s 136ms/step - loss: 0.1890 - accuracy: 0.1370\n",
      "Epoch 17/200\n",
      "185/185 [==============================] - 25s 136ms/step - loss: 0.1488 - accuracy: 0.1439\n",
      "Epoch 18/200\n",
      "185/185 [==============================] - 25s 136ms/step - loss: 0.1172 - accuracy: 0.1495\n",
      "Epoch 19/200\n",
      "185/185 [==============================] - 26s 141ms/step - loss: 0.0945 - accuracy: 0.1535\n",
      "Epoch 20/200\n",
      "185/185 [==============================] - 25s 134ms/step - loss: 0.0800 - accuracy: 0.1562\n",
      "Epoch 21/200\n",
      "185/185 [==============================] - 25s 134ms/step - loss: 0.0724 - accuracy: 0.1577\n",
      "Epoch 22/200\n",
      "185/185 [==============================] - 25s 135ms/step - loss: 0.0655 - accuracy: 0.1589\n",
      "Epoch 23/200\n",
      "185/185 [==============================] - 25s 134ms/step - loss: 0.0568 - accuracy: 0.1610\n",
      "Epoch 24/200\n",
      "185/185 [==============================] - 25s 134ms/step - loss: 0.0498 - accuracy: 0.1625\n",
      "Epoch 25/200\n",
      "185/185 [==============================] - 25s 134ms/step - loss: 0.0432 - accuracy: 0.1641\n",
      "Epoch 26/200\n",
      "185/185 [==============================] - 25s 134ms/step - loss: 0.0383 - accuracy: 0.1653\n",
      "Epoch 27/200\n",
      "185/185 [==============================] - 25s 134ms/step - loss: 0.0336 - accuracy: 0.1666\n",
      "Epoch 28/200\n",
      "185/185 [==============================] - 25s 135ms/step - loss: 0.0307 - accuracy: 0.1673\n",
      "Epoch 29/200\n",
      "185/185 [==============================] - 25s 134ms/step - loss: 0.0283 - accuracy: 0.1678\n",
      "Epoch 30/200\n",
      "185/185 [==============================] - 25s 134ms/step - loss: 0.0247 - accuracy: 0.1688\n",
      "Epoch 31/200\n",
      "185/185 [==============================] - 25s 134ms/step - loss: 0.0231 - accuracy: 0.1693\n",
      "Epoch 32/200\n",
      "185/185 [==============================] - 25s 134ms/step - loss: 0.0216 - accuracy: 0.1696\n",
      "Epoch 33/200\n",
      "185/185 [==============================] - 25s 134ms/step - loss: 0.0203 - accuracy: 0.1699\n",
      "Epoch 34/200\n",
      "185/185 [==============================] - 25s 134ms/step - loss: 0.0183 - accuracy: 0.1704\n",
      "Epoch 35/200\n",
      "185/185 [==============================] - 25s 134ms/step - loss: 0.0173 - accuracy: 0.1708\n",
      "Epoch 36/200\n",
      "185/185 [==============================] - 25s 135ms/step - loss: 0.0162 - accuracy: 0.1710\n",
      "Epoch 37/200\n",
      "185/185 [==============================] - 25s 136ms/step - loss: 0.0145 - accuracy: 0.1715\n",
      "Epoch 38/200\n",
      "185/185 [==============================] - 25s 134ms/step - loss: 0.0139 - accuracy: 0.1716\n",
      "Epoch 39/200\n",
      "185/185 [==============================] - 25s 134ms/step - loss: 0.0131 - accuracy: 0.1720\n",
      "Epoch 40/200\n",
      "185/185 [==============================] - 25s 134ms/step - loss: 0.0121 - accuracy: 0.1721\n",
      "Epoch 41/200\n",
      "185/185 [==============================] - 25s 133ms/step - loss: 0.0122 - accuracy: 0.1721\n",
      "Epoch 42/200\n",
      "185/185 [==============================] - 25s 133ms/step - loss: 0.0116 - accuracy: 0.1722\n",
      "Epoch 43/200\n",
      "185/185 [==============================] - 25s 133ms/step - loss: 0.0111 - accuracy: 0.1724\n",
      "Epoch 44/200\n",
      "185/185 [==============================] - 25s 134ms/step - loss: 0.0098 - accuracy: 0.1727\n",
      "Epoch 45/200\n",
      "185/185 [==============================] - 25s 134ms/step - loss: 0.0096 - accuracy: 0.1727\n",
      "Epoch 46/200\n",
      "185/185 [==============================] - 25s 134ms/step - loss: 0.0093 - accuracy: 0.1728\n",
      "Epoch 47/200\n",
      "185/185 [==============================] - 25s 134ms/step - loss: 0.0091 - accuracy: 0.1728\n",
      "Epoch 48/200\n",
      "185/185 [==============================] - 25s 134ms/step - loss: 0.0079 - accuracy: 0.1731\n",
      "Epoch 49/200\n",
      "185/185 [==============================] - 25s 134ms/step - loss: 0.0080 - accuracy: 0.1731\n",
      "Epoch 50/200\n",
      "185/185 [==============================] - 25s 134ms/step - loss: 0.0079 - accuracy: 0.1732\n",
      "Epoch 51/200\n",
      "185/185 [==============================] - 25s 134ms/step - loss: 0.0077 - accuracy: 0.1733\n",
      "Epoch 52/200\n",
      "185/185 [==============================] - 25s 134ms/step - loss: 0.0074 - accuracy: 0.1733\n",
      "Epoch 53/200\n",
      "185/185 [==============================] - 25s 134ms/step - loss: 0.0070 - accuracy: 0.1733\n",
      "Epoch 54/200\n",
      "185/185 [==============================] - 25s 134ms/step - loss: 0.0066 - accuracy: 0.1734\n",
      "Epoch 55/200\n",
      "185/185 [==============================] - 25s 134ms/step - loss: 0.0065 - accuracy: 0.1735\n",
      "Epoch 56/200\n",
      "185/185 [==============================] - 26s 138ms/step - loss: 0.0063 - accuracy: 0.1735\n",
      "Epoch 57/200\n",
      "185/185 [==============================] - 25s 134ms/step - loss: 0.0060 - accuracy: 0.1736\n",
      "Epoch 58/200\n",
      "185/185 [==============================] - 25s 134ms/step - loss: 0.0059 - accuracy: 0.1737\n",
      "Epoch 59/200\n",
      "185/185 [==============================] - 25s 135ms/step - loss: 0.0057 - accuracy: 0.1737\n",
      "Epoch 60/200\n",
      "185/185 [==============================] - 25s 135ms/step - loss: 0.0058 - accuracy: 0.1737\n",
      "Epoch 61/200\n",
      "185/185 [==============================] - 25s 136ms/step - loss: 0.0059 - accuracy: 0.1736\n",
      "Epoch 62/200\n",
      "185/185 [==============================] - 25s 135ms/step - loss: 0.0056 - accuracy: 0.1737\n",
      "Epoch 63/200\n",
      "185/185 [==============================] - 25s 134ms/step - loss: 0.0052 - accuracy: 0.1738\n",
      "Epoch 64/200\n",
      "185/185 [==============================] - 25s 134ms/step - loss: 0.0051 - accuracy: 0.1739\n",
      "Epoch 65/200\n",
      "185/185 [==============================] - 25s 135ms/step - loss: 0.0051 - accuracy: 0.1738\n",
      "Epoch 66/200\n",
      "185/185 [==============================] - 25s 135ms/step - loss: 0.0047 - accuracy: 0.1739\n",
      "Epoch 67/200\n",
      "185/185 [==============================] - 25s 134ms/step - loss: 0.0047 - accuracy: 0.1739\n",
      "Epoch 68/200\n",
      "185/185 [==============================] - 25s 134ms/step - loss: 0.0045 - accuracy: 0.1740\n",
      "Epoch 69/200\n",
      "185/185 [==============================] - 25s 135ms/step - loss: 0.0043 - accuracy: 0.1740\n",
      "Epoch 70/200\n",
      "185/185 [==============================] - 25s 135ms/step - loss: 0.0044 - accuracy: 0.1739\n",
      "Epoch 71/200\n",
      "185/185 [==============================] - 25s 135ms/step - loss: 0.0041 - accuracy: 0.1741\n",
      "Epoch 72/200\n",
      "185/185 [==============================] - 25s 134ms/step - loss: 0.0040 - accuracy: 0.1741\n",
      "Epoch 73/200\n",
      "185/185 [==============================] - 25s 134ms/step - loss: 0.0041 - accuracy: 0.1740\n",
      "Epoch 74/200\n",
      "185/185 [==============================] - 25s 135ms/step - loss: 0.0042 - accuracy: 0.1741\n",
      "Epoch 75/200\n",
      "185/185 [==============================] - 25s 134ms/step - loss: 0.0040 - accuracy: 0.1741\n",
      "Epoch 76/200\n",
      "185/185 [==============================] - 25s 135ms/step - loss: 0.0039 - accuracy: 0.1741\n",
      "Epoch 77/200\n",
      "185/185 [==============================] - 25s 135ms/step - loss: 0.0040 - accuracy: 0.1741\n",
      "Epoch 78/200\n",
      "185/185 [==============================] - 25s 134ms/step - loss: 0.0036 - accuracy: 0.1741\n",
      "Epoch 79/200\n",
      "185/185 [==============================] - 25s 134ms/step - loss: 0.0039 - accuracy: 0.1741\n",
      "Epoch 80/200\n",
      "185/185 [==============================] - 25s 134ms/step - loss: 0.0035 - accuracy: 0.1741\n",
      "Epoch 81/200\n",
      "185/185 [==============================] - 25s 134ms/step - loss: 0.0034 - accuracy: 0.1742\n",
      "Epoch 82/200\n",
      "185/185 [==============================] - 25s 134ms/step - loss: 0.0034 - accuracy: 0.1742\n",
      "Epoch 83/200\n",
      "185/185 [==============================] - 25s 134ms/step - loss: 0.0034 - accuracy: 0.1742\n",
      "Epoch 84/200\n",
      "185/185 [==============================] - 25s 137ms/step - loss: 0.0034 - accuracy: 0.1742\n",
      "Epoch 85/200\n",
      "185/185 [==============================] - 26s 139ms/step - loss: 0.0032 - accuracy: 0.1743\n",
      "Epoch 86/200\n",
      "185/185 [==============================] - 25s 134ms/step - loss: 0.0036 - accuracy: 0.1742\n",
      "Epoch 87/200\n",
      "185/185 [==============================] - 25s 134ms/step - loss: 0.0032 - accuracy: 0.1742\n",
      "Epoch 88/200\n",
      "185/185 [==============================] - 25s 135ms/step - loss: 0.0029 - accuracy: 0.1742\n",
      "Epoch 89/200\n",
      "185/185 [==============================] - 25s 135ms/step - loss: 0.0031 - accuracy: 0.1743\n",
      "Epoch 90/200\n",
      "185/185 [==============================] - 25s 134ms/step - loss: 0.0030 - accuracy: 0.1743\n",
      "Epoch 91/200\n",
      "185/185 [==============================] - 25s 134ms/step - loss: 0.0031 - accuracy: 0.1742\n",
      "Epoch 92/200\n",
      "185/185 [==============================] - 25s 134ms/step - loss: 0.0029 - accuracy: 0.1743\n",
      "Epoch 93/200\n",
      "185/185 [==============================] - 25s 133ms/step - loss: 0.0030 - accuracy: 0.1743\n",
      "Epoch 94/200\n",
      "185/185 [==============================] - 25s 133ms/step - loss: 0.0028 - accuracy: 0.1743\n",
      "Epoch 95/200\n",
      "185/185 [==============================] - 25s 134ms/step - loss: 0.0029 - accuracy: 0.1742\n",
      "Epoch 96/200\n",
      "185/185 [==============================] - 25s 133ms/step - loss: 0.0027 - accuracy: 0.1743\n",
      "Epoch 97/200\n",
      "185/185 [==============================] - 25s 133ms/step - loss: 0.0027 - accuracy: 0.1743\n",
      "Epoch 98/200\n",
      "185/185 [==============================] - 25s 133ms/step - loss: 0.0028 - accuracy: 0.1743\n",
      "Epoch 99/200\n",
      "185/185 [==============================] - 25s 133ms/step - loss: 0.0026 - accuracy: 0.1744\n",
      "Epoch 100/200\n",
      "185/185 [==============================] - 25s 133ms/step - loss: 0.0026 - accuracy: 0.1743\n",
      "Epoch 101/200\n",
      "185/185 [==============================] - 25s 134ms/step - loss: 0.0028 - accuracy: 0.1743\n",
      "Epoch 102/200\n",
      "185/185 [==============================] - 25s 133ms/step - loss: 0.0027 - accuracy: 0.1743\n",
      "Epoch 103/200\n",
      "185/185 [==============================] - 25s 133ms/step - loss: 0.0025 - accuracy: 0.1744\n",
      "Epoch 104/200\n",
      "185/185 [==============================] - 25s 134ms/step - loss: 0.0024 - accuracy: 0.1744\n",
      "Epoch 105/200\n",
      "185/185 [==============================] - 25s 134ms/step - loss: 0.0025 - accuracy: 0.1744\n",
      "Epoch 106/200\n",
      "185/185 [==============================] - 25s 133ms/step - loss: 0.0026 - accuracy: 0.1743\n",
      "Epoch 107/200\n",
      "185/185 [==============================] - 25s 132ms/step - loss: 0.0024 - accuracy: 0.1743\n",
      "Epoch 108/200\n",
      "185/185 [==============================] - 24s 132ms/step - loss: 0.0024 - accuracy: 0.1744\n",
      "Epoch 109/200\n",
      "185/185 [==============================] - 25s 134ms/step - loss: 0.0024 - accuracy: 0.1744\n",
      "Epoch 110/200\n",
      "185/185 [==============================] - 25s 133ms/step - loss: 0.0024 - accuracy: 0.1744\n",
      "Epoch 111/200\n",
      "185/185 [==============================] - 24s 132ms/step - loss: 0.0022 - accuracy: 0.1744\n",
      "Epoch 112/200\n",
      "185/185 [==============================] - 24s 132ms/step - loss: 0.0023 - accuracy: 0.1744\n",
      "Epoch 113/200\n",
      "185/185 [==============================] - 24s 132ms/step - loss: 0.0024 - accuracy: 0.1744\n",
      "Epoch 114/200\n",
      "185/185 [==============================] - 24s 132ms/step - loss: 0.0023 - accuracy: 0.1744\n",
      "Epoch 115/200\n",
      "185/185 [==============================] - 25s 133ms/step - loss: 0.0022 - accuracy: 0.1744\n",
      "Epoch 116/200\n",
      "185/185 [==============================] - 24s 132ms/step - loss: 0.0022 - accuracy: 0.1744\n",
      "Epoch 117/200\n",
      "185/185 [==============================] - 24s 132ms/step - loss: 0.0021 - accuracy: 0.1744\n",
      "Epoch 118/200\n",
      "185/185 [==============================] - 24s 132ms/step - loss: 0.0021 - accuracy: 0.1745\n",
      "Epoch 119/200\n",
      "185/185 [==============================] - 24s 132ms/step - loss: 0.0021 - accuracy: 0.1744\n",
      "Epoch 120/200\n",
      "185/185 [==============================] - 24s 132ms/step - loss: 0.0021 - accuracy: 0.1744\n",
      "Epoch 121/200\n",
      "185/185 [==============================] - 24s 132ms/step - loss: 0.0022 - accuracy: 0.1744\n",
      "Epoch 122/200\n",
      "185/185 [==============================] - 24s 132ms/step - loss: 0.0021 - accuracy: 0.1744\n",
      "Epoch 123/200\n",
      "185/185 [==============================] - 24s 132ms/step - loss: 0.0022 - accuracy: 0.1744\n",
      "Epoch 124/200\n",
      "185/185 [==============================] - 24s 132ms/step - loss: 0.0020 - accuracy: 0.1744\n",
      "Epoch 125/200\n",
      "185/185 [==============================] - 25s 133ms/step - loss: 0.0019 - accuracy: 0.1745\n",
      "Epoch 126/200\n",
      "185/185 [==============================] - 24s 132ms/step - loss: 0.0022 - accuracy: 0.1744\n",
      "Epoch 127/200\n",
      "185/185 [==============================] - 24s 132ms/step - loss: 0.0021 - accuracy: 0.1744\n",
      "Epoch 128/200\n",
      "185/185 [==============================] - 24s 132ms/step - loss: 0.0020 - accuracy: 0.1744\n",
      "Epoch 129/200\n",
      "185/185 [==============================] - 24s 132ms/step - loss: 0.0020 - accuracy: 0.1744\n",
      "Epoch 130/200\n",
      "185/185 [==============================] - 24s 132ms/step - loss: 0.0019 - accuracy: 0.1745\n",
      "Epoch 131/200\n",
      "185/185 [==============================] - 24s 132ms/step - loss: 0.0018 - accuracy: 0.1745\n",
      "Epoch 132/200\n",
      "185/185 [==============================] - 24s 132ms/step - loss: 0.0020 - accuracy: 0.1744\n",
      "Epoch 133/200\n",
      "185/185 [==============================] - 24s 132ms/step - loss: 0.0022 - accuracy: 0.1744\n",
      "Epoch 134/200\n",
      "185/185 [==============================] - 24s 132ms/step - loss: 0.0018 - accuracy: 0.1745\n",
      "Epoch 135/200\n",
      "185/185 [==============================] - 24s 132ms/step - loss: 0.0018 - accuracy: 0.1745\n",
      "Epoch 136/200\n",
      "185/185 [==============================] - 24s 132ms/step - loss: 0.0018 - accuracy: 0.1745\n",
      "Epoch 137/200\n",
      "185/185 [==============================] - 24s 132ms/step - loss: 0.0018 - accuracy: 0.1745\n",
      "Epoch 138/200\n",
      "185/185 [==============================] - 24s 132ms/step - loss: 0.0018 - accuracy: 0.1745\n",
      "Epoch 139/200\n",
      "185/185 [==============================] - 24s 132ms/step - loss: 0.0018 - accuracy: 0.1745\n",
      "Epoch 140/200\n",
      "185/185 [==============================] - 24s 132ms/step - loss: 0.0019 - accuracy: 0.1744\n",
      "Epoch 141/200\n",
      "185/185 [==============================] - 25s 133ms/step - loss: 0.0018 - accuracy: 0.1745\n",
      "Epoch 142/200\n",
      "185/185 [==============================] - 26s 139ms/step - loss: 0.0018 - accuracy: 0.1745\n",
      "Epoch 143/200\n",
      "185/185 [==============================] - 25s 136ms/step - loss: 0.0017 - accuracy: 0.1745\n",
      "Epoch 144/200\n",
      "185/185 [==============================] - 24s 132ms/step - loss: 0.0017 - accuracy: 0.1745\n",
      "Epoch 145/200\n",
      "185/185 [==============================] - 24s 132ms/step - loss: 0.0017 - accuracy: 0.1745\n",
      "Epoch 146/200\n",
      "185/185 [==============================] - 24s 132ms/step - loss: 0.0017 - accuracy: 0.1745\n",
      "Epoch 147/200\n",
      "185/185 [==============================] - 24s 132ms/step - loss: 0.0019 - accuracy: 0.1744\n",
      "Epoch 148/200\n",
      "185/185 [==============================] - 24s 132ms/step - loss: 0.0016 - accuracy: 0.1745\n",
      "Epoch 149/200\n",
      "185/185 [==============================] - 24s 132ms/step - loss: 0.0017 - accuracy: 0.1745\n",
      "Epoch 150/200\n",
      "185/185 [==============================] - 24s 132ms/step - loss: 0.0015 - accuracy: 0.1745\n",
      "Epoch 151/200\n",
      "185/185 [==============================] - 24s 132ms/step - loss: 0.0017 - accuracy: 0.1745\n",
      "Epoch 152/200\n",
      "185/185 [==============================] - 24s 131ms/step - loss: 0.0015 - accuracy: 0.1745\n",
      "Epoch 153/200\n",
      "185/185 [==============================] - 24s 131ms/step - loss: 0.0015 - accuracy: 0.1745\n",
      "Epoch 154/200\n",
      "185/185 [==============================] - 24s 132ms/step - loss: 0.0017 - accuracy: 0.1745\n",
      "Epoch 155/200\n",
      "185/185 [==============================] - 24s 132ms/step - loss: 0.0015 - accuracy: 0.1745\n",
      "Epoch 156/200\n",
      "185/185 [==============================] - 24s 132ms/step - loss: 0.0016 - accuracy: 0.1745\n",
      "Epoch 157/200\n",
      "185/185 [==============================] - 24s 132ms/step - loss: 0.0015 - accuracy: 0.1745\n",
      "Epoch 158/200\n",
      "185/185 [==============================] - 24s 131ms/step - loss: 0.0015 - accuracy: 0.1745\n",
      "Epoch 159/200\n",
      "185/185 [==============================] - 25s 133ms/step - loss: 0.0015 - accuracy: 0.1745\n",
      "Epoch 160/200\n",
      "185/185 [==============================] - 24s 132ms/step - loss: 0.0014 - accuracy: 0.1745\n",
      "Epoch 161/200\n",
      "185/185 [==============================] - 24s 132ms/step - loss: 0.0015 - accuracy: 0.1745\n",
      "Epoch 162/200\n",
      "185/185 [==============================] - 25s 134ms/step - loss: 0.0016 - accuracy: 0.1744\n",
      "Epoch 163/200\n",
      "185/185 [==============================] - 24s 131ms/step - loss: 0.0014 - accuracy: 0.1745\n",
      "Epoch 164/200\n",
      "185/185 [==============================] - 24s 132ms/step - loss: 0.0015 - accuracy: 0.1745\n",
      "Epoch 165/200\n",
      "185/185 [==============================] - 24s 132ms/step - loss: 0.0014 - accuracy: 0.1745\n",
      "Epoch 166/200\n",
      "185/185 [==============================] - 24s 132ms/step - loss: 0.0014 - accuracy: 0.1745\n",
      "Epoch 167/200\n",
      "185/185 [==============================] - 24s 131ms/step - loss: 0.0013 - accuracy: 0.1745\n",
      "Epoch 168/200\n",
      "185/185 [==============================] - 24s 131ms/step - loss: 0.0013 - accuracy: 0.1745\n",
      "Epoch 169/200\n",
      "185/185 [==============================] - 24s 130ms/step - loss: 0.0014 - accuracy: 0.1745\n",
      "Epoch 170/200\n",
      "185/185 [==============================] - 24s 130ms/step - loss: 0.0015 - accuracy: 0.1745\n",
      "Epoch 171/200\n",
      "185/185 [==============================] - 24s 131ms/step - loss: 0.0012 - accuracy: 0.1745\n",
      "Epoch 172/200\n",
      "185/185 [==============================] - 24s 131ms/step - loss: 0.0014 - accuracy: 0.1745\n",
      "Epoch 173/200\n",
      "185/185 [==============================] - 24s 131ms/step - loss: 0.0014 - accuracy: 0.1745\n",
      "Epoch 174/200\n",
      "185/185 [==============================] - 24s 132ms/step - loss: 0.0012 - accuracy: 0.1745\n",
      "Epoch 175/200\n",
      "185/185 [==============================] - 24s 131ms/step - loss: 0.0013 - accuracy: 0.1745\n",
      "Epoch 176/200\n",
      "185/185 [==============================] - 24s 131ms/step - loss: 0.0013 - accuracy: 0.1745\n",
      "Epoch 177/200\n",
      "185/185 [==============================] - 24s 131ms/step - loss: 0.0013 - accuracy: 0.1745\n",
      "Epoch 178/200\n",
      "185/185 [==============================] - 24s 132ms/step - loss: 0.0012 - accuracy: 0.1745\n",
      "Epoch 179/200\n",
      "185/185 [==============================] - 24s 132ms/step - loss: 0.0013 - accuracy: 0.1745\n",
      "Epoch 180/200\n",
      "185/185 [==============================] - 24s 132ms/step - loss: 0.0012 - accuracy: 0.1745\n",
      "Epoch 181/200\n",
      "185/185 [==============================] - 24s 131ms/step - loss: 0.0013 - accuracy: 0.1745\n",
      "Epoch 182/200\n",
      "185/185 [==============================] - 24s 131ms/step - loss: 0.0012 - accuracy: 0.1745\n",
      "Epoch 183/200\n",
      "185/185 [==============================] - 25s 133ms/step - loss: 0.0013 - accuracy: 0.1745\n",
      "Epoch 184/200\n",
      "185/185 [==============================] - 24s 132ms/step - loss: 0.0012 - accuracy: 0.1745\n",
      "Epoch 185/200\n",
      "185/185 [==============================] - 24s 132ms/step - loss: 0.0011 - accuracy: 0.1745\n",
      "Epoch 186/200\n",
      "185/185 [==============================] - 24s 132ms/step - loss: 0.0013 - accuracy: 0.1745\n",
      "Epoch 187/200\n",
      "185/185 [==============================] - 24s 131ms/step - loss: 0.0013 - accuracy: 0.1745\n",
      "Epoch 188/200\n",
      "185/185 [==============================] - 24s 131ms/step - loss: 0.0013 - accuracy: 0.1745\n",
      "Epoch 189/200\n",
      "185/185 [==============================] - 24s 132ms/step - loss: 0.0012 - accuracy: 0.1745\n",
      "Epoch 190/200\n",
      "185/185 [==============================] - 24s 131ms/step - loss: 0.0011 - accuracy: 0.1745\n",
      "Epoch 191/200\n",
      "185/185 [==============================] - 24s 132ms/step - loss: 0.0012 - accuracy: 0.1745\n",
      "Epoch 192/200\n",
      "185/185 [==============================] - 24s 131ms/step - loss: 0.0011 - accuracy: 0.1745\n",
      "Epoch 193/200\n",
      "185/185 [==============================] - 24s 132ms/step - loss: 0.0012 - accuracy: 0.1745\n",
      "Epoch 194/200\n",
      "185/185 [==============================] - 24s 132ms/step - loss: 0.0012 - accuracy: 0.1745\n",
      "Epoch 195/200\n",
      "185/185 [==============================] - 24s 132ms/step - loss: 0.0011 - accuracy: 0.1745\n",
      "Epoch 196/200\n",
      "185/185 [==============================] - 24s 132ms/step - loss: 0.0011 - accuracy: 0.1745\n",
      "Epoch 197/200\n",
      "185/185 [==============================] - 24s 132ms/step - loss: 0.0013 - accuracy: 0.1745\n",
      "Epoch 198/200\n",
      "185/185 [==============================] - 24s 132ms/step - loss: 0.0010 - accuracy: 0.1745\n",
      "Epoch 199/200\n",
      "185/185 [==============================] - 24s 132ms/step - loss: 0.0012 - accuracy: 0.1745\n",
      "Epoch 200/200\n",
      "185/185 [==============================] - 24s 132ms/step - loss: 0.0010 - accuracy: 0.1745\n"
     ]
    }
   ],
   "source": [
    "print(\"GPU를 사용한 학습\")\n",
    "\n",
    "EPOCHS = 200\n",
    "\n",
    "\n",
    "with tf.device(\"/device:GPU:0\"):\n",
    "   model.fit(dataset, epochs=EPOCHS)\n"
   ]
  },
  {
   "cell_type": "code",
   "execution_count": null,
   "metadata": {
    "colab": {
     "base_uri": "https://localhost:8080/"
    },
    "id": "ANNRrqyxMudl",
    "outputId": "80bf55b1-5d5b-4ddd-99f5-9690ecd43e6d"
   },
   "outputs": [],
   "source": [
    "# EPOCHS = 50\n",
    "\n",
    "# model.fit(dataset, epochs=EPOCHS)"
   ]
  },
  {
   "cell_type": "code",
   "execution_count": 51,
   "metadata": {
    "id": "eQ-HE_1XRQPT"
   },
   "outputs": [
    {
     "name": "stderr",
     "output_type": "stream",
     "text": [
      "WARNING:absl:Found untraced functions such as dense_layer_call_fn, dense_layer_call_and_return_conditional_losses, dense_1_layer_call_fn, dense_1_layer_call_and_return_conditional_losses, dense_2_layer_call_fn while saving (showing 5 of 72). These functions will not be directly callable after loading.\n"
     ]
    },
    {
     "name": "stdout",
     "output_type": "stream",
     "text": [
      "INFO:tensorflow:Assets written to: ./transformer_chatbot.h5\\assets\n"
     ]
    },
    {
     "name": "stderr",
     "output_type": "stream",
     "text": [
      "INFO:tensorflow:Assets written to: ./transformer_chatbot.h5\\assets\n"
     ]
    }
   ],
   "source": [
    "tf.saved_model.save(model, \"./transformer_chatbot.h5\")"
   ]
  },
  {
   "cell_type": "markdown",
   "metadata": {
    "id": "derXe3eJZaaO"
   },
   "source": [
    "## **7. 챗봇 평가하기**"
   ]
  },
  {
   "cell_type": "code",
   "execution_count": 52,
   "metadata": {
    "id": "m_yF7K_GMwvd"
   },
   "outputs": [],
   "source": [
    "def evaluate(sentence):\n",
    "  sentence = preprocess_sentence(sentence)\n",
    "\n",
    "  sentence = tf.expand_dims(\n",
    "      START_TOKEN + tokenizer.encode(sentence) + END_TOKEN, axis=0)\n",
    "\n",
    "  output = tf.expand_dims(START_TOKEN, 0)\n",
    "\n",
    "  # 디코더의 예측 시작\n",
    "  for i in range(MAX_LENGTH):\n",
    "    predictions = model(inputs=[sentence, output], training=False)\n",
    "\n",
    "    # 현재(마지막) 시점의 예측 단어를 받아온다.\n",
    "    predictions = predictions[:, -1:, :]\n",
    "    predicted_id = tf.cast(tf.argmax(predictions, axis=-1), tf.int32)\n",
    "\n",
    "    # 만약 마지막 시점의 예측 단어가 종료 토큰이라면 예측을 중단\n",
    "    if tf.equal(predicted_id, END_TOKEN[0]):\n",
    "      break\n",
    "\n",
    "    # 마지막 시점의 예측 단어를 출력에 연결한다.\n",
    "    # 이는 for문을 통해서 디코더의 입력으로 사용될 예정이다.\n",
    "    output = tf.concat([output, predicted_id], axis=-1)\n",
    "\n",
    "  return tf.squeeze(output, axis=0)\n",
    "\n",
    "\n",
    "def predict(sentence):\n",
    "  prediction = evaluate(sentence)\n",
    "\n",
    "  predicted_sentence = tokenizer.decode(\n",
    "      [i for i in prediction if i < tokenizer.vocab_size])\n",
    "\n",
    "  print('Input: {}'.format(sentence))\n",
    "  print('Output: {}'.format(predicted_sentence))\n",
    "\n",
    "  return predicted_sentence"
   ]
  },
  {
   "cell_type": "code",
   "execution_count": 53,
   "metadata": {
    "id": "3K455VxrM1lE"
   },
   "outputs": [],
   "source": [
    "def preprocess_sentence(sentence):\n",
    "  sentence = re.sub(r\"([?.!,])\", r\" \\1 \", sentence)\n",
    "  sentence = sentence.strip()\n",
    "  return sentence"
   ]
  },
  {
   "cell_type": "code",
   "execution_count": 54,
   "metadata": {
    "id": "epE-f-9fM1dF"
   },
   "outputs": [
    {
     "name": "stdout",
     "output_type": "stream",
     "text": [
      "Input: 영화 볼래?\n",
      "Output: 최신 영화가 좋을 것 같아요 .\n"
     ]
    }
   ],
   "source": [
    "output = predict('영화 볼래?')"
   ]
  },
  {
   "cell_type": "code",
   "execution_count": 61,
   "metadata": {
    "id": "FQ4eTvQqM1VF"
   },
   "outputs": [
    {
     "name": "stdout",
     "output_type": "stream",
     "text": [
      "Input: 고민이 있어\n",
      "Output: 이제 원하지 않는 선이 되기도 하죠 .\n"
     ]
    }
   ],
   "source": [
    "output = predict(\"고민이 있어\")"
   ]
  },
  {
   "cell_type": "code",
   "execution_count": 56,
   "metadata": {
    "id": "yj1Md8bfM1KU"
   },
   "outputs": [
    {
     "name": "stdout",
     "output_type": "stream",
     "text": [
      "Input: 너무 화가나\n",
      "Output: 그럴수록 당신이 힘들 거예요 .\n"
     ]
    }
   ],
   "source": [
    "output = predict(\"너무 화가나\")"
   ]
  },
  {
   "cell_type": "code",
   "execution_count": 57,
   "metadata": {
    "id": "d_Y1MFRSM6Ms"
   },
   "outputs": [
    {
     "name": "stdout",
     "output_type": "stream",
     "text": [
      "Input: 게임하고싶은데 할래?\n",
      "Output: 연락 안 오면 좋겠네요 .\n"
     ]
    }
   ],
   "source": [
    "output = predict(\"게임하고싶은데 할래?\")\n",
    "\n"
   ]
  },
  {
   "cell_type": "code",
   "execution_count": 58,
   "metadata": {
    "id": "wgM4VGdsM8kk"
   },
   "outputs": [
    {
     "name": "stdout",
     "output_type": "stream",
     "text": [
      "Input: 나 너 좋아하는 것 같아\n",
      "Output: 저는 위기 조차 없네요 .\n"
     ]
    }
   ],
   "source": [
    "output = predict(\"나 너 좋아하는 것 같아\")"
   ]
  },
  {
   "cell_type": "code",
   "execution_count": 59,
   "metadata": {
    "id": "rH7QuVwsM8ac"
   },
   "outputs": [
    {
     "name": "stdout",
     "output_type": "stream",
     "text": [
      "Input: 딥 러닝 자연어 처리를 잘 하고 싶어\n",
      "Output: 하나씩 하나씩 해보세요 .\n"
     ]
    }
   ],
   "source": [
    "output = predict(\"딥 러닝 자연어 처리를 잘 하고 싶어\")"
   ]
  },
  {
   "cell_type": "code",
   "execution_count": 62,
   "metadata": {
    "id": "34XEZZ2sSY9K"
   },
   "outputs": [],
   "source": [
    " loaded_model = tf.saved_model.load(\"./transformer_chatbot.h5\")"
   ]
  },
  {
   "cell_type": "code",
   "execution_count": 63,
   "metadata": {
    "id": "tRR2nbXpS_Iy"
   },
   "outputs": [],
   "source": [
    "def evaluate2(sentence):\n",
    "  sentence = preprocess_sentence(sentence)\n",
    "\n",
    "  sentence = tf.expand_dims(\n",
    "      START_TOKEN + tokenizer.encode(sentence) + END_TOKEN, axis=0)\n",
    "\n",
    "  output = tf.expand_dims(START_TOKEN, 0)\n",
    "\n",
    "  # 디코더의 예측 시작\n",
    "  for i in range(MAX_LENGTH):\n",
    "    predictions = loaded_model(inputs=[sentence, output], training=False)\n",
    "\n",
    "    # 현재(마지막) 시점의 예측 단어를 받아온다.\n",
    "    predictions = predictions[:, -1:, :]\n",
    "    predicted_id = tf.cast(tf.argmax(predictions, axis=-1), tf.int32)\n",
    "\n",
    "    # 만약 마지막 시점의 예측 단어가 종료 토큰이라면 예측을 중단\n",
    "    if tf.equal(predicted_id, END_TOKEN[0]):\n",
    "      break\n",
    "\n",
    "    # 마지막 시점의 예측 단어를 출력에 연결한다.\n",
    "    # 이는 for문을 통해서 디코더의 입력으로 사용될 예정이다.\n",
    "    output = tf.concat([output, predicted_id], axis=-1)\n",
    "\n",
    "  return tf.squeeze(output, axis=0)\n",
    "\n",
    "def predict2(sentence):\n",
    "  prediction = evaluate(sentence)\n",
    "\n",
    "  predicted_sentence = tokenizer.decode(\n",
    "      [i for i in prediction if i < tokenizer.vocab_size])\n",
    "\n",
    "  print('Input: {}'.format(sentence))\n",
    "  print('Output: {}'.format(predicted_sentence))\n",
    "\n",
    "  return predicted_sentence  "
   ]
  },
  {
   "cell_type": "code",
   "execution_count": 65,
   "metadata": {
    "id": "HEvEldJYTlaT"
   },
   "outputs": [
    {
     "name": "stdout",
     "output_type": "stream",
     "text": [
      "Input: 딥 러닝 자연어 처리를 잘 하고 싶어\n",
      "Output: 하나씩 하나씩 해보세요 .\n"
     ]
    }
   ],
   "source": [
    "output = predict2(\"딥 러닝 자연어 처리를 잘 하고 싶어\")"
   ]
  },
  {
   "cell_type": "code",
   "execution_count": 66,
   "metadata": {},
   "outputs": [
    {
     "name": "stdout",
     "output_type": "stream",
     "text": [
      "Input: 취업을 할 수 있을까?\n",
      "Output: 간절한 만큼 할 수 있을 거예요 .\n"
     ]
    }
   ],
   "source": [
    "output = predict2(\"취업을 할 수 있을까?\")"
   ]
  },
  {
   "cell_type": "code",
   "execution_count": null,
   "metadata": {},
   "outputs": [],
   "source": []
  }
 ],
 "metadata": {
  "accelerator": "GPU",
  "colab": {
   "collapsed_sections": [],
   "provenance": []
  },
  "gpuClass": "standard",
  "kernelspec": {
   "display_name": "Python 3 (ipykernel)",
   "language": "python",
   "name": "python3"
  },
  "language_info": {
   "codemirror_mode": {
    "name": "ipython",
    "version": 3
   },
   "file_extension": ".py",
   "mimetype": "text/x-python",
   "name": "python",
   "nbconvert_exporter": "python",
   "pygments_lexer": "ipython3",
   "version": "3.9.12"
  }
 },
 "nbformat": 4,
 "nbformat_minor": 1
}
