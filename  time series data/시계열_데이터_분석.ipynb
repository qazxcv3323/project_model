{
  "nbformat": 4,
  "nbformat_minor": 5,
  "metadata": {
    "kernelspec": {
      "display_name": "Python 3",
      "language": "python",
      "name": "python3"
    },
    "language_info": {
      "codemirror_mode": {
        "name": "ipython",
        "version": 3
      },
      "file_extension": ".py",
      "mimetype": "text/x-python",
      "name": "python",
      "nbconvert_exporter": "python",
      "pygments_lexer": "ipython3",
      "version": "3.8.8"
    },
    "colab": {
      "name": "시계열 데이터 분석.ipynb",
      "provenance": [],
      "include_colab_link": true
    }
  },
  "cells": [
    {
      "cell_type": "markdown",
      "metadata": {
        "id": "view-in-github",
        "colab_type": "text"
      },
      "source": [
        "<a href=\"https://colab.research.google.com/github/qazxcv3323/project_model/blob/main/%20time%20series%20data/%EC%8B%9C%EA%B3%84%EC%97%B4_%EB%8D%B0%EC%9D%B4%ED%84%B0_%EB%B6%84%EC%84%9D.ipynb\" target=\"_parent\"><img src=\"https://colab.research.google.com/assets/colab-badge.svg\" alt=\"Open In Colab\"/></a>"
      ]
    },
    {
      "cell_type": "markdown",
      "metadata": {
        "id": "61fc77f2"
      },
      "source": [
        "#  시계열 분석(Time Series)"
      ],
      "id": "61fc77f2"
    },
    {
      "cell_type": "markdown",
      "metadata": {
        "id": "61bc5bcf"
      },
      "source": [
        "* 시간 : 특정 간격 갖는 시간\n",
        "        -Lag 에서 Data의 Trend를 찾는다.\n",
        "        \n",
        "* 일변량 정상시계열\n",
        "        -ARIMA Model\n",
        "        \n",
        "* Trend : 추세 - 데이터의 변화되어있는 모형\n",
        "\n",
        "* Seasonality : 계절성 - 주기에 따라 trend가 달라질수 있음. ex)특정주기별로 반복되는추세가 있거나\n",
        "\n",
        "* Cycle : 주기\n",
        "\n",
        "* Noise : 번역하면 잡음 이지만, 시간에 따라서 독립적인 데이터 _ 평균,분산이 변하는 않는 데이터  = White Noise = 분석가능변동데이터"
      ],
      "id": "61bc5bcf"
    },
    {
      "cell_type": "code",
      "metadata": {
        "id": "7a295067"
      },
      "source": [
        "import pandas as pd\n",
        "import numpy as np\n",
        "import seaborn as sns\n",
        "import matplotlib as mpl\n",
        "import matplotlib.pyplot as plt\n",
        "\n",
        "mpl.rc(\"font\", family = \"Malgun Gothic\")"
      ],
      "id": "7a295067",
      "execution_count": null,
      "outputs": []
    },
    {
      "cell_type": "code",
      "metadata": {
        "id": "70aa3082"
      },
      "source": [
        "df1= pd.read_csv(\"C:/000/data11.csv\")"
      ],
      "id": "70aa3082",
      "execution_count": null,
      "outputs": []
    },
    {
      "cell_type": "code",
      "metadata": {
        "id": "c344cda3",
        "outputId": "3f8144bd-d0a8-43ad-bd1b-2e9ad939355d"
      },
      "source": [
        "df1.info()"
      ],
      "id": "c344cda3",
      "execution_count": null,
      "outputs": [
        {
          "name": "stdout",
          "output_type": "stream",
          "text": [
            "<class 'pandas.core.frame.DataFrame'>\n",
            "RangeIndex: 803675 entries, 0 to 803674\n",
            "Data columns (total 3 columns):\n",
            " #   Column  Non-Null Count   Dtype \n",
            "---  ------  --------------   ----- \n",
            " 0   구매일     803675 non-null  object\n",
            " 1   구매금액    803675 non-null  int64 \n",
            " 2   물품대분류   803675 non-null  object\n",
            "dtypes: int64(1), object(2)\n",
            "memory usage: 18.4+ MB\n"
          ]
        }
      ]
    },
    {
      "cell_type": "code",
      "metadata": {
        "id": "03575322",
        "outputId": "74e74044-dcc9-4da6-dda4-97697f64690a"
      },
      "source": [
        "df1.head()"
      ],
      "id": "03575322",
      "execution_count": null,
      "outputs": [
        {
          "data": {
            "text/html": [
              "<div>\n",
              "<style scoped>\n",
              "    .dataframe tbody tr th:only-of-type {\n",
              "        vertical-align: middle;\n",
              "    }\n",
              "\n",
              "    .dataframe tbody tr th {\n",
              "        vertical-align: top;\n",
              "    }\n",
              "\n",
              "    .dataframe thead th {\n",
              "        text-align: right;\n",
              "    }\n",
              "</style>\n",
              "<table border=\"1\" class=\"dataframe\">\n",
              "  <thead>\n",
              "    <tr style=\"text-align: right;\">\n",
              "      <th></th>\n",
              "      <th>구매일</th>\n",
              "      <th>구매금액</th>\n",
              "      <th>물품대분류</th>\n",
              "    </tr>\n",
              "  </thead>\n",
              "  <tbody>\n",
              "    <tr>\n",
              "      <th>0</th>\n",
              "      <td>2018-04-20</td>\n",
              "      <td>57120</td>\n",
              "      <td>기저귀</td>\n",
              "    </tr>\n",
              "    <tr>\n",
              "      <th>1</th>\n",
              "      <td>2018-04-20</td>\n",
              "      <td>15900</td>\n",
              "      <td>더블하트</td>\n",
              "    </tr>\n",
              "    <tr>\n",
              "      <th>2</th>\n",
              "      <td>2018-04-20</td>\n",
              "      <td>7000</td>\n",
              "      <td>더블하트</td>\n",
              "    </tr>\n",
              "    <tr>\n",
              "      <th>3</th>\n",
              "      <td>2018-04-20</td>\n",
              "      <td>20900</td>\n",
              "      <td>더블하트</td>\n",
              "    </tr>\n",
              "    <tr>\n",
              "      <th>4</th>\n",
              "      <td>2018-05-06</td>\n",
              "      <td>26500</td>\n",
              "      <td>더블하트</td>\n",
              "    </tr>\n",
              "  </tbody>\n",
              "</table>\n",
              "</div>"
            ],
            "text/plain": [
              "          구매일   구매금액 물품대분류\n",
              "0  2018-04-20  57120   기저귀\n",
              "1  2018-04-20  15900  더블하트\n",
              "2  2018-04-20   7000  더블하트\n",
              "3  2018-04-20  20900  더블하트\n",
              "4  2018-05-06  26500  더블하트"
            ]
          },
          "execution_count": 4,
          "metadata": {},
          "output_type": "execute_result"
        }
      ]
    },
    {
      "cell_type": "code",
      "metadata": {
        "id": "335fe027",
        "outputId": "8e648775-0b54-4b23-b9fd-af11de3920d9"
      },
      "source": [
        "df1.tail()"
      ],
      "id": "335fe027",
      "execution_count": null,
      "outputs": [
        {
          "data": {
            "text/html": [
              "<div>\n",
              "<style scoped>\n",
              "    .dataframe tbody tr th:only-of-type {\n",
              "        vertical-align: middle;\n",
              "    }\n",
              "\n",
              "    .dataframe tbody tr th {\n",
              "        vertical-align: top;\n",
              "    }\n",
              "\n",
              "    .dataframe thead th {\n",
              "        text-align: right;\n",
              "    }\n",
              "</style>\n",
              "<table border=\"1\" class=\"dataframe\">\n",
              "  <thead>\n",
              "    <tr style=\"text-align: right;\">\n",
              "      <th></th>\n",
              "      <th>구매일</th>\n",
              "      <th>구매금액</th>\n",
              "      <th>물품대분류</th>\n",
              "    </tr>\n",
              "  </thead>\n",
              "  <tbody>\n",
              "    <tr>\n",
              "      <th>803670</th>\n",
              "      <td>2020-08-06</td>\n",
              "      <td>30960</td>\n",
              "      <td>더블하트</td>\n",
              "    </tr>\n",
              "    <tr>\n",
              "      <th>803671</th>\n",
              "      <td>2020-08-06</td>\n",
              "      <td>6640</td>\n",
              "      <td>더블하트</td>\n",
              "    </tr>\n",
              "    <tr>\n",
              "      <th>803672</th>\n",
              "      <td>2020-08-06</td>\n",
              "      <td>5600</td>\n",
              "      <td>더블하트</td>\n",
              "    </tr>\n",
              "    <tr>\n",
              "      <th>803673</th>\n",
              "      <td>2020-08-06</td>\n",
              "      <td>7840</td>\n",
              "      <td>더블하트</td>\n",
              "    </tr>\n",
              "    <tr>\n",
              "      <th>803674</th>\n",
              "      <td>2020-08-06</td>\n",
              "      <td>8500</td>\n",
              "      <td>기타</td>\n",
              "    </tr>\n",
              "  </tbody>\n",
              "</table>\n",
              "</div>"
            ],
            "text/plain": [
              "               구매일   구매금액 물품대분류\n",
              "803670  2020-08-06  30960  더블하트\n",
              "803671  2020-08-06   6640  더블하트\n",
              "803672  2020-08-06   5600  더블하트\n",
              "803673  2020-08-06   7840  더블하트\n",
              "803674  2020-08-06   8500    기타"
            ]
          },
          "execution_count": 5,
          "metadata": {},
          "output_type": "execute_result"
        }
      ]
    },
    {
      "cell_type": "markdown",
      "metadata": {
        "id": "b496ac52"
      },
      "source": [
        "구매일이 object 로 되어있기 때문에 dtype를 datetime 형태로 바꿔줍니다.\n",
        "\n",
        "pd.todatetime()"
      ],
      "id": "b496ac52"
    },
    {
      "cell_type": "code",
      "metadata": {
        "id": "e45dfbcb",
        "outputId": "5e9e35a2-9735-46c6-85af-673375761d2a"
      },
      "source": [
        "df1[\"Datetime\"] = pd.to_datetime(df1[\"구매일\"])\n",
        "df1"
      ],
      "id": "e45dfbcb",
      "execution_count": null,
      "outputs": [
        {
          "data": {
            "text/html": [
              "<div>\n",
              "<style scoped>\n",
              "    .dataframe tbody tr th:only-of-type {\n",
              "        vertical-align: middle;\n",
              "    }\n",
              "\n",
              "    .dataframe tbody tr th {\n",
              "        vertical-align: top;\n",
              "    }\n",
              "\n",
              "    .dataframe thead th {\n",
              "        text-align: right;\n",
              "    }\n",
              "</style>\n",
              "<table border=\"1\" class=\"dataframe\">\n",
              "  <thead>\n",
              "    <tr style=\"text-align: right;\">\n",
              "      <th></th>\n",
              "      <th>구매일</th>\n",
              "      <th>구매금액</th>\n",
              "      <th>물품대분류</th>\n",
              "      <th>Datetime</th>\n",
              "    </tr>\n",
              "  </thead>\n",
              "  <tbody>\n",
              "    <tr>\n",
              "      <th>0</th>\n",
              "      <td>2018-04-20</td>\n",
              "      <td>57120</td>\n",
              "      <td>기저귀</td>\n",
              "      <td>2018-04-20</td>\n",
              "    </tr>\n",
              "    <tr>\n",
              "      <th>1</th>\n",
              "      <td>2018-04-20</td>\n",
              "      <td>15900</td>\n",
              "      <td>더블하트</td>\n",
              "      <td>2018-04-20</td>\n",
              "    </tr>\n",
              "    <tr>\n",
              "      <th>2</th>\n",
              "      <td>2018-04-20</td>\n",
              "      <td>7000</td>\n",
              "      <td>더블하트</td>\n",
              "      <td>2018-04-20</td>\n",
              "    </tr>\n",
              "    <tr>\n",
              "      <th>3</th>\n",
              "      <td>2018-04-20</td>\n",
              "      <td>20900</td>\n",
              "      <td>더블하트</td>\n",
              "      <td>2018-04-20</td>\n",
              "    </tr>\n",
              "    <tr>\n",
              "      <th>4</th>\n",
              "      <td>2018-05-06</td>\n",
              "      <td>26500</td>\n",
              "      <td>더블하트</td>\n",
              "      <td>2018-05-06</td>\n",
              "    </tr>\n",
              "    <tr>\n",
              "      <th>...</th>\n",
              "      <td>...</td>\n",
              "      <td>...</td>\n",
              "      <td>...</td>\n",
              "      <td>...</td>\n",
              "    </tr>\n",
              "    <tr>\n",
              "      <th>803670</th>\n",
              "      <td>2020-08-06</td>\n",
              "      <td>30960</td>\n",
              "      <td>더블하트</td>\n",
              "      <td>2020-08-06</td>\n",
              "    </tr>\n",
              "    <tr>\n",
              "      <th>803671</th>\n",
              "      <td>2020-08-06</td>\n",
              "      <td>6640</td>\n",
              "      <td>더블하트</td>\n",
              "      <td>2020-08-06</td>\n",
              "    </tr>\n",
              "    <tr>\n",
              "      <th>803672</th>\n",
              "      <td>2020-08-06</td>\n",
              "      <td>5600</td>\n",
              "      <td>더블하트</td>\n",
              "      <td>2020-08-06</td>\n",
              "    </tr>\n",
              "    <tr>\n",
              "      <th>803673</th>\n",
              "      <td>2020-08-06</td>\n",
              "      <td>7840</td>\n",
              "      <td>더블하트</td>\n",
              "      <td>2020-08-06</td>\n",
              "    </tr>\n",
              "    <tr>\n",
              "      <th>803674</th>\n",
              "      <td>2020-08-06</td>\n",
              "      <td>8500</td>\n",
              "      <td>기타</td>\n",
              "      <td>2020-08-06</td>\n",
              "    </tr>\n",
              "  </tbody>\n",
              "</table>\n",
              "<p>803675 rows × 4 columns</p>\n",
              "</div>"
            ],
            "text/plain": [
              "               구매일   구매금액 물품대분류   Datetime\n",
              "0       2018-04-20  57120   기저귀 2018-04-20\n",
              "1       2018-04-20  15900  더블하트 2018-04-20\n",
              "2       2018-04-20   7000  더블하트 2018-04-20\n",
              "3       2018-04-20  20900  더블하트 2018-04-20\n",
              "4       2018-05-06  26500  더블하트 2018-05-06\n",
              "...            ...    ...   ...        ...\n",
              "803670  2020-08-06  30960  더블하트 2020-08-06\n",
              "803671  2020-08-06   6640  더블하트 2020-08-06\n",
              "803672  2020-08-06   5600  더블하트 2020-08-06\n",
              "803673  2020-08-06   7840  더블하트 2020-08-06\n",
              "803674  2020-08-06   8500    기타 2020-08-06\n",
              "\n",
              "[803675 rows x 4 columns]"
            ]
          },
          "execution_count": 6,
          "metadata": {},
          "output_type": "execute_result"
        }
      ]
    },
    {
      "cell_type": "code",
      "metadata": {
        "id": "5b2b59af",
        "outputId": "08314419-29aa-4f59-b723-3c7a245690db"
      },
      "source": [
        "df1[\"Datetime\"].describe()"
      ],
      "id": "5b2b59af",
      "execution_count": null,
      "outputs": [
        {
          "name": "stderr",
          "output_type": "stream",
          "text": [
            "<ipython-input-7-1e1e920b0fb2>:1: FutureWarning: Treating datetime data as categorical rather than numeric in `.describe` is deprecated and will be removed in a future version of pandas. Specify `datetime_is_numeric=True` to silence this warning and adopt the future behavior now.\n",
            "  df1[\"Datetime\"].describe()\n"
          ]
        },
        {
          "data": {
            "text/plain": [
              "count                  803675\n",
              "unique                    589\n",
              "top       2019-10-11 00:00:00\n",
              "freq                    10500\n",
              "first     2018-04-20 00:00:00\n",
              "last      2020-08-07 00:00:00\n",
              "Name: Datetime, dtype: object"
            ]
          },
          "execution_count": 7,
          "metadata": {},
          "output_type": "execute_result"
        }
      ]
    },
    {
      "cell_type": "markdown",
      "metadata": {
        "id": "e96b8962"
      },
      "source": [
        "describe()를 볼때\n",
        "\n",
        "data의 처음은 first,\n",
        "\n",
        "data의 마지막은 last,\n",
        "\n",
        "data중 제일 많이 차지하는건 top\n",
        "\n",
        "전체 data는 589일(unique) - 판매가 안된 날짜가 있다. ex) 주말휴무 & 쉬는날"
      ],
      "id": "e96b8962"
    },
    {
      "cell_type": "code",
      "metadata": {
        "id": "263192b3",
        "outputId": "dce25415-bbe6-4b38-a3b9-805e3d6d18e5"
      },
      "source": [
        "df1"
      ],
      "id": "263192b3",
      "execution_count": null,
      "outputs": [
        {
          "data": {
            "text/html": [
              "<div>\n",
              "<style scoped>\n",
              "    .dataframe tbody tr th:only-of-type {\n",
              "        vertical-align: middle;\n",
              "    }\n",
              "\n",
              "    .dataframe tbody tr th {\n",
              "        vertical-align: top;\n",
              "    }\n",
              "\n",
              "    .dataframe thead th {\n",
              "        text-align: right;\n",
              "    }\n",
              "</style>\n",
              "<table border=\"1\" class=\"dataframe\">\n",
              "  <thead>\n",
              "    <tr style=\"text-align: right;\">\n",
              "      <th></th>\n",
              "      <th>구매일</th>\n",
              "      <th>구매금액</th>\n",
              "      <th>물품대분류</th>\n",
              "      <th>Datetime</th>\n",
              "    </tr>\n",
              "  </thead>\n",
              "  <tbody>\n",
              "    <tr>\n",
              "      <th>0</th>\n",
              "      <td>2018-04-20</td>\n",
              "      <td>57120</td>\n",
              "      <td>기저귀</td>\n",
              "      <td>2018-04-20</td>\n",
              "    </tr>\n",
              "    <tr>\n",
              "      <th>1</th>\n",
              "      <td>2018-04-20</td>\n",
              "      <td>15900</td>\n",
              "      <td>더블하트</td>\n",
              "      <td>2018-04-20</td>\n",
              "    </tr>\n",
              "    <tr>\n",
              "      <th>2</th>\n",
              "      <td>2018-04-20</td>\n",
              "      <td>7000</td>\n",
              "      <td>더블하트</td>\n",
              "      <td>2018-04-20</td>\n",
              "    </tr>\n",
              "    <tr>\n",
              "      <th>3</th>\n",
              "      <td>2018-04-20</td>\n",
              "      <td>20900</td>\n",
              "      <td>더블하트</td>\n",
              "      <td>2018-04-20</td>\n",
              "    </tr>\n",
              "    <tr>\n",
              "      <th>4</th>\n",
              "      <td>2018-05-06</td>\n",
              "      <td>26500</td>\n",
              "      <td>더블하트</td>\n",
              "      <td>2018-05-06</td>\n",
              "    </tr>\n",
              "    <tr>\n",
              "      <th>...</th>\n",
              "      <td>...</td>\n",
              "      <td>...</td>\n",
              "      <td>...</td>\n",
              "      <td>...</td>\n",
              "    </tr>\n",
              "    <tr>\n",
              "      <th>803670</th>\n",
              "      <td>2020-08-06</td>\n",
              "      <td>30960</td>\n",
              "      <td>더블하트</td>\n",
              "      <td>2020-08-06</td>\n",
              "    </tr>\n",
              "    <tr>\n",
              "      <th>803671</th>\n",
              "      <td>2020-08-06</td>\n",
              "      <td>6640</td>\n",
              "      <td>더블하트</td>\n",
              "      <td>2020-08-06</td>\n",
              "    </tr>\n",
              "    <tr>\n",
              "      <th>803672</th>\n",
              "      <td>2020-08-06</td>\n",
              "      <td>5600</td>\n",
              "      <td>더블하트</td>\n",
              "      <td>2020-08-06</td>\n",
              "    </tr>\n",
              "    <tr>\n",
              "      <th>803673</th>\n",
              "      <td>2020-08-06</td>\n",
              "      <td>7840</td>\n",
              "      <td>더블하트</td>\n",
              "      <td>2020-08-06</td>\n",
              "    </tr>\n",
              "    <tr>\n",
              "      <th>803674</th>\n",
              "      <td>2020-08-06</td>\n",
              "      <td>8500</td>\n",
              "      <td>기타</td>\n",
              "      <td>2020-08-06</td>\n",
              "    </tr>\n",
              "  </tbody>\n",
              "</table>\n",
              "<p>803675 rows × 4 columns</p>\n",
              "</div>"
            ],
            "text/plain": [
              "               구매일   구매금액 물품대분류   Datetime\n",
              "0       2018-04-20  57120   기저귀 2018-04-20\n",
              "1       2018-04-20  15900  더블하트 2018-04-20\n",
              "2       2018-04-20   7000  더블하트 2018-04-20\n",
              "3       2018-04-20  20900  더블하트 2018-04-20\n",
              "4       2018-05-06  26500  더블하트 2018-05-06\n",
              "...            ...    ...   ...        ...\n",
              "803670  2020-08-06  30960  더블하트 2020-08-06\n",
              "803671  2020-08-06   6640  더블하트 2020-08-06\n",
              "803672  2020-08-06   5600  더블하트 2020-08-06\n",
              "803673  2020-08-06   7840  더블하트 2020-08-06\n",
              "803674  2020-08-06   8500    기타 2020-08-06\n",
              "\n",
              "[803675 rows x 4 columns]"
            ]
          },
          "execution_count": 8,
          "metadata": {},
          "output_type": "execute_result"
        }
      ]
    },
    {
      "cell_type": "markdown",
      "metadata": {
        "id": "e265e037"
      },
      "source": [
        "### 연도,월,일 로 바꿔준다"
      ],
      "id": "e265e037"
    },
    {
      "cell_type": "code",
      "metadata": {
        "id": "80e9d361",
        "outputId": "b1066215-4ea1-442a-c30c-3342bc8ed124"
      },
      "source": [
        "df1[\"year\"] =df1[\"Datetime\"].dt.year\n",
        "df1[\"month\"] =df1[\"Datetime\"].dt.month\n",
        "df1[\"week\"] =df1[\"Datetime\"].dt.week\n",
        "df1[\"day_of_week\"] =df1[\"Datetime\"].dt.day_name()\n"
      ],
      "id": "80e9d361",
      "execution_count": null,
      "outputs": [
        {
          "name": "stderr",
          "output_type": "stream",
          "text": [
            "<ipython-input-9-c849d23a6cef>:3: FutureWarning: Series.dt.weekofyear and Series.dt.week have been deprecated.  Please use Series.dt.isocalendar().week instead.\n",
            "  df1[\"week\"] =df1[\"Datetime\"].dt.week\n"
          ]
        }
      ]
    },
    {
      "cell_type": "code",
      "metadata": {
        "id": "11d691e7",
        "outputId": "cdef83f7-91b6-40ee-e130-351153b26495"
      },
      "source": [
        "df1.head()"
      ],
      "id": "11d691e7",
      "execution_count": null,
      "outputs": [
        {
          "data": {
            "text/html": [
              "<div>\n",
              "<style scoped>\n",
              "    .dataframe tbody tr th:only-of-type {\n",
              "        vertical-align: middle;\n",
              "    }\n",
              "\n",
              "    .dataframe tbody tr th {\n",
              "        vertical-align: top;\n",
              "    }\n",
              "\n",
              "    .dataframe thead th {\n",
              "        text-align: right;\n",
              "    }\n",
              "</style>\n",
              "<table border=\"1\" class=\"dataframe\">\n",
              "  <thead>\n",
              "    <tr style=\"text-align: right;\">\n",
              "      <th></th>\n",
              "      <th>구매일</th>\n",
              "      <th>구매금액</th>\n",
              "      <th>물품대분류</th>\n",
              "      <th>Datetime</th>\n",
              "      <th>year</th>\n",
              "      <th>month</th>\n",
              "      <th>week</th>\n",
              "      <th>day_of_week</th>\n",
              "    </tr>\n",
              "  </thead>\n",
              "  <tbody>\n",
              "    <tr>\n",
              "      <th>0</th>\n",
              "      <td>2018-04-20</td>\n",
              "      <td>57120</td>\n",
              "      <td>기저귀</td>\n",
              "      <td>2018-04-20</td>\n",
              "      <td>2018</td>\n",
              "      <td>4</td>\n",
              "      <td>16</td>\n",
              "      <td>Friday</td>\n",
              "    </tr>\n",
              "    <tr>\n",
              "      <th>1</th>\n",
              "      <td>2018-04-20</td>\n",
              "      <td>15900</td>\n",
              "      <td>더블하트</td>\n",
              "      <td>2018-04-20</td>\n",
              "      <td>2018</td>\n",
              "      <td>4</td>\n",
              "      <td>16</td>\n",
              "      <td>Friday</td>\n",
              "    </tr>\n",
              "    <tr>\n",
              "      <th>2</th>\n",
              "      <td>2018-04-20</td>\n",
              "      <td>7000</td>\n",
              "      <td>더블하트</td>\n",
              "      <td>2018-04-20</td>\n",
              "      <td>2018</td>\n",
              "      <td>4</td>\n",
              "      <td>16</td>\n",
              "      <td>Friday</td>\n",
              "    </tr>\n",
              "    <tr>\n",
              "      <th>3</th>\n",
              "      <td>2018-04-20</td>\n",
              "      <td>20900</td>\n",
              "      <td>더블하트</td>\n",
              "      <td>2018-04-20</td>\n",
              "      <td>2018</td>\n",
              "      <td>4</td>\n",
              "      <td>16</td>\n",
              "      <td>Friday</td>\n",
              "    </tr>\n",
              "    <tr>\n",
              "      <th>4</th>\n",
              "      <td>2018-05-06</td>\n",
              "      <td>26500</td>\n",
              "      <td>더블하트</td>\n",
              "      <td>2018-05-06</td>\n",
              "      <td>2018</td>\n",
              "      <td>5</td>\n",
              "      <td>18</td>\n",
              "      <td>Sunday</td>\n",
              "    </tr>\n",
              "  </tbody>\n",
              "</table>\n",
              "</div>"
            ],
            "text/plain": [
              "          구매일   구매금액 물품대분류   Datetime  year  month  week day_of_week\n",
              "0  2018-04-20  57120   기저귀 2018-04-20  2018      4    16      Friday\n",
              "1  2018-04-20  15900  더블하트 2018-04-20  2018      4    16      Friday\n",
              "2  2018-04-20   7000  더블하트 2018-04-20  2018      4    16      Friday\n",
              "3  2018-04-20  20900  더블하트 2018-04-20  2018      4    16      Friday\n",
              "4  2018-05-06  26500  더블하트 2018-05-06  2018      5    18      Sunday"
            ]
          },
          "execution_count": 10,
          "metadata": {},
          "output_type": "execute_result"
        }
      ]
    },
    {
      "cell_type": "markdown",
      "metadata": {
        "id": "f75b582d"
      },
      "source": [
        "## 시각화"
      ],
      "id": "f75b582d"
    },
    {
      "cell_type": "code",
      "metadata": {
        "id": "2a3e29ad"
      },
      "source": [
        "sns.lineplot(data=df1, x=\"Datetime\", y=\"구매금액\", estimator=sum)"
      ],
      "id": "2a3e29ad",
      "execution_count": null,
      "outputs": []
    },
    {
      "cell_type": "markdown",
      "metadata": {
        "id": "c9f8d76e"
      },
      "source": [
        "### data가 80만개라 lineplot 그리면 시간이 오래걸리니 피보팅을 하여 시리즈를 정리해주고,\n",
        "### 피보팅한 변수로 lineplot을 그려준다.  시간도 효율적이고 값도 똑같다."
      ],
      "id": "c9f8d76e"
    },
    {
      "cell_type": "code",
      "metadata": {
        "id": "8bac8a0d"
      },
      "source": [
        "# 일별 구매계산 합\n",
        "p1 = pd.pivot_table(data=df1,\n",
        "                    index=\"Datetime\", values=\"구매금액\", aggfunc=\"sum\").reset_index()"
      ],
      "id": "8bac8a0d",
      "execution_count": null,
      "outputs": []
    },
    {
      "cell_type": "code",
      "metadata": {
        "id": "19686bbe",
        "outputId": "e94b69db-a970-4ae3-a597-f6884314a138"
      },
      "source": [
        "p1"
      ],
      "id": "19686bbe",
      "execution_count": null,
      "outputs": [
        {
          "data": {
            "text/html": [
              "<div>\n",
              "<style scoped>\n",
              "    .dataframe tbody tr th:only-of-type {\n",
              "        vertical-align: middle;\n",
              "    }\n",
              "\n",
              "    .dataframe tbody tr th {\n",
              "        vertical-align: top;\n",
              "    }\n",
              "\n",
              "    .dataframe thead th {\n",
              "        text-align: right;\n",
              "    }\n",
              "</style>\n",
              "<table border=\"1\" class=\"dataframe\">\n",
              "  <thead>\n",
              "    <tr style=\"text-align: right;\">\n",
              "      <th></th>\n",
              "      <th>Datetime</th>\n",
              "      <th>구매금액</th>\n",
              "    </tr>\n",
              "  </thead>\n",
              "  <tbody>\n",
              "    <tr>\n",
              "      <th>0</th>\n",
              "      <td>2018-04-20</td>\n",
              "      <td>100920</td>\n",
              "    </tr>\n",
              "    <tr>\n",
              "      <th>1</th>\n",
              "      <td>2018-05-06</td>\n",
              "      <td>26500</td>\n",
              "    </tr>\n",
              "    <tr>\n",
              "      <th>2</th>\n",
              "      <td>2018-05-14</td>\n",
              "      <td>20600</td>\n",
              "    </tr>\n",
              "    <tr>\n",
              "      <th>3</th>\n",
              "      <td>2018-08-12</td>\n",
              "      <td>75700</td>\n",
              "    </tr>\n",
              "    <tr>\n",
              "      <th>4</th>\n",
              "      <td>2018-09-01</td>\n",
              "      <td>48300</td>\n",
              "    </tr>\n",
              "    <tr>\n",
              "      <th>...</th>\n",
              "      <td>...</td>\n",
              "      <td>...</td>\n",
              "    </tr>\n",
              "    <tr>\n",
              "      <th>584</th>\n",
              "      <td>2020-08-03</td>\n",
              "      <td>27560340</td>\n",
              "    </tr>\n",
              "    <tr>\n",
              "      <th>585</th>\n",
              "      <td>2020-08-04</td>\n",
              "      <td>31832500</td>\n",
              "    </tr>\n",
              "    <tr>\n",
              "      <th>586</th>\n",
              "      <td>2020-08-05</td>\n",
              "      <td>27683180</td>\n",
              "    </tr>\n",
              "    <tr>\n",
              "      <th>587</th>\n",
              "      <td>2020-08-06</td>\n",
              "      <td>22574070</td>\n",
              "    </tr>\n",
              "    <tr>\n",
              "      <th>588</th>\n",
              "      <td>2020-08-07</td>\n",
              "      <td>12099370</td>\n",
              "    </tr>\n",
              "  </tbody>\n",
              "</table>\n",
              "<p>589 rows × 2 columns</p>\n",
              "</div>"
            ],
            "text/plain": [
              "      Datetime      구매금액\n",
              "0   2018-04-20    100920\n",
              "1   2018-05-06     26500\n",
              "2   2018-05-14     20600\n",
              "3   2018-08-12     75700\n",
              "4   2018-09-01     48300\n",
              "..         ...       ...\n",
              "584 2020-08-03  27560340\n",
              "585 2020-08-04  31832500\n",
              "586 2020-08-05  27683180\n",
              "587 2020-08-06  22574070\n",
              "588 2020-08-07  12099370\n",
              "\n",
              "[589 rows x 2 columns]"
            ]
          },
          "execution_count": 12,
          "metadata": {},
          "output_type": "execute_result"
        }
      ]
    },
    {
      "cell_type": "code",
      "metadata": {
        "id": "bdaf73f5",
        "outputId": "cc69c55c-6fc8-4963-debe-ce6847cea2f7"
      },
      "source": [
        "sns.lineplot(data=p1, x=\"Datetime\", y=\"구매금액\")"
      ],
      "id": "bdaf73f5",
      "execution_count": null,
      "outputs": [
        {
          "data": {
            "text/plain": [
              "<AxesSubplot:xlabel='Datetime', ylabel='구매금액'>"
            ]
          },
          "execution_count": 13,
          "metadata": {},
          "output_type": "execute_result"
        },
        {
          "data": {
            "image/png": "[encoded data removed]",
            "text/plain": [
              "<Figure size 432x288 with 1 Axes>"
            ]
          },
          "metadata": {
            "needs_background": "light"
          },
          "output_type": "display_data"
        }
      ]
    },
    {
      "cell_type": "code",
      "metadata": {
        "id": "fab8d0df"
      },
      "source": [
        "p2 = pd.pivot_table(data=df1,\n",
        "                    index=[\"Datetime\",\"물품대분류\"], values=\"구매금액\", aggfunc=\"sum\").reset_index()"
      ],
      "id": "fab8d0df",
      "execution_count": null,
      "outputs": []
    },
    {
      "cell_type": "code",
      "metadata": {
        "id": "2fe689f7",
        "outputId": "7e0823fc-3799-4351-d9ba-6453192e3c34"
      },
      "source": [
        "p2"
      ],
      "id": "2fe689f7",
      "execution_count": null,
      "outputs": [
        {
          "data": {
            "text/html": [
              "<div>\n",
              "<style scoped>\n",
              "    .dataframe tbody tr th:only-of-type {\n",
              "        vertical-align: middle;\n",
              "    }\n",
              "\n",
              "    .dataframe tbody tr th {\n",
              "        vertical-align: top;\n",
              "    }\n",
              "\n",
              "    .dataframe thead th {\n",
              "        text-align: right;\n",
              "    }\n",
              "</style>\n",
              "<table border=\"1\" class=\"dataframe\">\n",
              "  <thead>\n",
              "    <tr style=\"text-align: right;\">\n",
              "      <th></th>\n",
              "      <th>Datetime</th>\n",
              "      <th>물품대분류</th>\n",
              "      <th>구매금액</th>\n",
              "    </tr>\n",
              "  </thead>\n",
              "  <tbody>\n",
              "    <tr>\n",
              "      <th>0</th>\n",
              "      <td>2018-04-20</td>\n",
              "      <td>기저귀</td>\n",
              "      <td>57120</td>\n",
              "    </tr>\n",
              "    <tr>\n",
              "      <th>1</th>\n",
              "      <td>2018-04-20</td>\n",
              "      <td>더블하트</td>\n",
              "      <td>43800</td>\n",
              "    </tr>\n",
              "    <tr>\n",
              "      <th>2</th>\n",
              "      <td>2018-05-06</td>\n",
              "      <td>더블하트</td>\n",
              "      <td>26500</td>\n",
              "    </tr>\n",
              "    <tr>\n",
              "      <th>3</th>\n",
              "      <td>2018-05-14</td>\n",
              "      <td>FC</td>\n",
              "      <td>20600</td>\n",
              "    </tr>\n",
              "    <tr>\n",
              "      <th>4</th>\n",
              "      <td>2018-08-12</td>\n",
              "      <td>더블하트</td>\n",
              "      <td>75700</td>\n",
              "    </tr>\n",
              "    <tr>\n",
              "      <th>...</th>\n",
              "      <td>...</td>\n",
              "      <td>...</td>\n",
              "      <td>...</td>\n",
              "    </tr>\n",
              "    <tr>\n",
              "      <th>5241</th>\n",
              "      <td>2020-08-07</td>\n",
              "      <td>기타</td>\n",
              "      <td>182400</td>\n",
              "    </tr>\n",
              "    <tr>\n",
              "      <th>5242</th>\n",
              "      <td>2020-08-07</td>\n",
              "      <td>더블하트</td>\n",
              "      <td>408480</td>\n",
              "    </tr>\n",
              "    <tr>\n",
              "      <th>5243</th>\n",
              "      <td>2020-08-07</td>\n",
              "      <td>물티슈</td>\n",
              "      <td>100300</td>\n",
              "    </tr>\n",
              "    <tr>\n",
              "      <th>5244</th>\n",
              "      <td>2020-08-07</td>\n",
              "      <td>체험팩</td>\n",
              "      <td>112050</td>\n",
              "    </tr>\n",
              "    <tr>\n",
              "      <th>5245</th>\n",
              "      <td>2020-08-07</td>\n",
              "      <td>팬티</td>\n",
              "      <td>9299580</td>\n",
              "    </tr>\n",
              "  </tbody>\n",
              "</table>\n",
              "<p>5246 rows × 3 columns</p>\n",
              "</div>"
            ],
            "text/plain": [
              "       Datetime 물품대분류     구매금액\n",
              "0    2018-04-20   기저귀    57120\n",
              "1    2018-04-20  더블하트    43800\n",
              "2    2018-05-06  더블하트    26500\n",
              "3    2018-05-14    FC    20600\n",
              "4    2018-08-12  더블하트    75700\n",
              "...         ...   ...      ...\n",
              "5241 2020-08-07    기타   182400\n",
              "5242 2020-08-07  더블하트   408480\n",
              "5243 2020-08-07   물티슈   100300\n",
              "5244 2020-08-07   체험팩   112050\n",
              "5245 2020-08-07    팬티  9299580\n",
              "\n",
              "[5246 rows x 3 columns]"
            ]
          },
          "execution_count": 15,
          "metadata": {},
          "output_type": "execute_result"
        }
      ]
    },
    {
      "cell_type": "code",
      "metadata": {
        "scrolled": true,
        "id": "61222ead",
        "outputId": "16db9a11-ab48-4968-a3e0-4be79421fbe4"
      },
      "source": [
        "sns.lineplot(data=p2, x=\"Datetime\", y=\"구매금액\", hue=\"물품대분류\")"
      ],
      "id": "61222ead",
      "execution_count": null,
      "outputs": [
        {
          "data": {
            "text/plain": [
              "<AxesSubplot:xlabel='Datetime', ylabel='구매금액'>"
            ]
          },
          "execution_count": 16,
          "metadata": {},
          "output_type": "execute_result"
        },
        {
          "data": {
            "image/png": "[encoded data removed]",
            "text/plain": [
              "<Figure size 432x288 with 1 Axes>"
            ]
          },
          "metadata": {
            "needs_background": "light"
          },
          "output_type": "display_data"
        }
      ]
    },
    {
      "cell_type": "markdown",
      "metadata": {
        "id": "8fbda43a"
      },
      "source": [
        "* 더블하트라는 물품이 제일 많이 팔린 것 을 볼 수 있습니다. (유아용품에 대한 Data)\n",
        "* White_noise 를 생각하며 data를 분석해봅니다.\n",
        "* 더블하트제툼을 볼때 판매량이 많은 것 을 감안하여, 어떤이벤트가 있었거나 물품대란이 있었을 수 도있다는 가정을 해보자.\n",
        "* 시계열 분석을 할때에는 시각화를 하여, 확인을 해보는게 낫다.\n"
      ],
      "id": "8fbda43a"
    },
    {
      "cell_type": "code",
      "metadata": {
        "id": "4253658a",
        "outputId": "f0c2ca5b-8042-4814-a88c-051cc41318e2"
      },
      "source": [
        "# 기저귀 data 만 따로 뽑아 분석\n",
        "# 2018년에는 1개에 data 만 존재하고 2019부터 data가 존재하므로 빼는 것 이 낫다는 결론.\n",
        "cond1 = (df1[\"물품대분류\"] == \"기저귀\")\n",
        "df1.loc[cond1]"
      ],
      "id": "4253658a",
      "execution_count": null,
      "outputs": [
        {
          "data": {
            "text/html": [
              "<div>\n",
              "<style scoped>\n",
              "    .dataframe tbody tr th:only-of-type {\n",
              "        vertical-align: middle;\n",
              "    }\n",
              "\n",
              "    .dataframe tbody tr th {\n",
              "        vertical-align: top;\n",
              "    }\n",
              "\n",
              "    .dataframe thead th {\n",
              "        text-align: right;\n",
              "    }\n",
              "</style>\n",
              "<table border=\"1\" class=\"dataframe\">\n",
              "  <thead>\n",
              "    <tr style=\"text-align: right;\">\n",
              "      <th></th>\n",
              "      <th>구매일</th>\n",
              "      <th>구매금액</th>\n",
              "      <th>물품대분류</th>\n",
              "      <th>Datetime</th>\n",
              "      <th>year</th>\n",
              "      <th>month</th>\n",
              "      <th>week</th>\n",
              "      <th>day_of_week</th>\n",
              "    </tr>\n",
              "  </thead>\n",
              "  <tbody>\n",
              "    <tr>\n",
              "      <th>0</th>\n",
              "      <td>2018-04-20</td>\n",
              "      <td>57120</td>\n",
              "      <td>기저귀</td>\n",
              "      <td>2018-04-20</td>\n",
              "      <td>2018</td>\n",
              "      <td>4</td>\n",
              "      <td>16</td>\n",
              "      <td>Friday</td>\n",
              "    </tr>\n",
              "    <tr>\n",
              "      <th>29</th>\n",
              "      <td>2019-05-13</td>\n",
              "      <td>59520</td>\n",
              "      <td>기저귀</td>\n",
              "      <td>2019-05-13</td>\n",
              "      <td>2019</td>\n",
              "      <td>5</td>\n",
              "      <td>20</td>\n",
              "      <td>Monday</td>\n",
              "    </tr>\n",
              "    <tr>\n",
              "      <th>30</th>\n",
              "      <td>2019-05-10</td>\n",
              "      <td>50640</td>\n",
              "      <td>기저귀</td>\n",
              "      <td>2019-05-10</td>\n",
              "      <td>2019</td>\n",
              "      <td>5</td>\n",
              "      <td>19</td>\n",
              "      <td>Friday</td>\n",
              "    </tr>\n",
              "    <tr>\n",
              "      <th>31</th>\n",
              "      <td>2019-06-06</td>\n",
              "      <td>50640</td>\n",
              "      <td>기저귀</td>\n",
              "      <td>2019-06-06</td>\n",
              "      <td>2019</td>\n",
              "      <td>6</td>\n",
              "      <td>23</td>\n",
              "      <td>Thursday</td>\n",
              "    </tr>\n",
              "    <tr>\n",
              "      <th>32</th>\n",
              "      <td>2019-07-01</td>\n",
              "      <td>50640</td>\n",
              "      <td>기저귀</td>\n",
              "      <td>2019-07-01</td>\n",
              "      <td>2019</td>\n",
              "      <td>7</td>\n",
              "      <td>27</td>\n",
              "      <td>Monday</td>\n",
              "    </tr>\n",
              "    <tr>\n",
              "      <th>...</th>\n",
              "      <td>...</td>\n",
              "      <td>...</td>\n",
              "      <td>...</td>\n",
              "      <td>...</td>\n",
              "      <td>...</td>\n",
              "      <td>...</td>\n",
              "      <td>...</td>\n",
              "      <td>...</td>\n",
              "    </tr>\n",
              "    <tr>\n",
              "      <th>803578</th>\n",
              "      <td>2020-06-25</td>\n",
              "      <td>43400</td>\n",
              "      <td>기저귀</td>\n",
              "      <td>2020-06-25</td>\n",
              "      <td>2020</td>\n",
              "      <td>6</td>\n",
              "      <td>26</td>\n",
              "      <td>Thursday</td>\n",
              "    </tr>\n",
              "    <tr>\n",
              "      <th>803602</th>\n",
              "      <td>2020-06-26</td>\n",
              "      <td>43400</td>\n",
              "      <td>기저귀</td>\n",
              "      <td>2020-06-26</td>\n",
              "      <td>2020</td>\n",
              "      <td>6</td>\n",
              "      <td>26</td>\n",
              "      <td>Friday</td>\n",
              "    </tr>\n",
              "    <tr>\n",
              "      <th>803610</th>\n",
              "      <td>2020-06-28</td>\n",
              "      <td>49900</td>\n",
              "      <td>기저귀</td>\n",
              "      <td>2020-06-28</td>\n",
              "      <td>2020</td>\n",
              "      <td>6</td>\n",
              "      <td>26</td>\n",
              "      <td>Sunday</td>\n",
              "    </tr>\n",
              "    <tr>\n",
              "      <th>803631</th>\n",
              "      <td>2020-07-09</td>\n",
              "      <td>49900</td>\n",
              "      <td>기저귀</td>\n",
              "      <td>2020-07-09</td>\n",
              "      <td>2020</td>\n",
              "      <td>7</td>\n",
              "      <td>28</td>\n",
              "      <td>Thursday</td>\n",
              "    </tr>\n",
              "    <tr>\n",
              "      <th>803632</th>\n",
              "      <td>2020-07-25</td>\n",
              "      <td>49900</td>\n",
              "      <td>기저귀</td>\n",
              "      <td>2020-07-25</td>\n",
              "      <td>2020</td>\n",
              "      <td>7</td>\n",
              "      <td>30</td>\n",
              "      <td>Saturday</td>\n",
              "    </tr>\n",
              "  </tbody>\n",
              "</table>\n",
              "<p>141481 rows × 8 columns</p>\n",
              "</div>"
            ],
            "text/plain": [
              "               구매일   구매금액 물품대분류   Datetime  year  month  week day_of_week\n",
              "0       2018-04-20  57120   기저귀 2018-04-20  2018      4    16      Friday\n",
              "29      2019-05-13  59520   기저귀 2019-05-13  2019      5    20      Monday\n",
              "30      2019-05-10  50640   기저귀 2019-05-10  2019      5    19      Friday\n",
              "31      2019-06-06  50640   기저귀 2019-06-06  2019      6    23    Thursday\n",
              "32      2019-07-01  50640   기저귀 2019-07-01  2019      7    27      Monday\n",
              "...            ...    ...   ...        ...   ...    ...   ...         ...\n",
              "803578  2020-06-25  43400   기저귀 2020-06-25  2020      6    26    Thursday\n",
              "803602  2020-06-26  43400   기저귀 2020-06-26  2020      6    26      Friday\n",
              "803610  2020-06-28  49900   기저귀 2020-06-28  2020      6    26      Sunday\n",
              "803631  2020-07-09  49900   기저귀 2020-07-09  2020      7    28    Thursday\n",
              "803632  2020-07-25  49900   기저귀 2020-07-25  2020      7    30    Saturday\n",
              "\n",
              "[141481 rows x 8 columns]"
            ]
          },
          "execution_count": 17,
          "metadata": {},
          "output_type": "execute_result"
        }
      ]
    },
    {
      "cell_type": "code",
      "metadata": {
        "id": "bdb52992",
        "outputId": "aabfa039-15ef-4aae-fa32-dd6fac9b37f8"
      },
      "source": [
        "df2 = df1.loc[cond1].iloc[1:]\n",
        "df2.head()"
      ],
      "id": "bdb52992",
      "execution_count": null,
      "outputs": [
        {
          "data": {
            "text/html": [
              "<div>\n",
              "<style scoped>\n",
              "    .dataframe tbody tr th:only-of-type {\n",
              "        vertical-align: middle;\n",
              "    }\n",
              "\n",
              "    .dataframe tbody tr th {\n",
              "        vertical-align: top;\n",
              "    }\n",
              "\n",
              "    .dataframe thead th {\n",
              "        text-align: right;\n",
              "    }\n",
              "</style>\n",
              "<table border=\"1\" class=\"dataframe\">\n",
              "  <thead>\n",
              "    <tr style=\"text-align: right;\">\n",
              "      <th></th>\n",
              "      <th>구매일</th>\n",
              "      <th>구매금액</th>\n",
              "      <th>물품대분류</th>\n",
              "      <th>Datetime</th>\n",
              "      <th>year</th>\n",
              "      <th>month</th>\n",
              "      <th>week</th>\n",
              "      <th>day_of_week</th>\n",
              "    </tr>\n",
              "  </thead>\n",
              "  <tbody>\n",
              "    <tr>\n",
              "      <th>29</th>\n",
              "      <td>2019-05-13</td>\n",
              "      <td>59520</td>\n",
              "      <td>기저귀</td>\n",
              "      <td>2019-05-13</td>\n",
              "      <td>2019</td>\n",
              "      <td>5</td>\n",
              "      <td>20</td>\n",
              "      <td>Monday</td>\n",
              "    </tr>\n",
              "    <tr>\n",
              "      <th>30</th>\n",
              "      <td>2019-05-10</td>\n",
              "      <td>50640</td>\n",
              "      <td>기저귀</td>\n",
              "      <td>2019-05-10</td>\n",
              "      <td>2019</td>\n",
              "      <td>5</td>\n",
              "      <td>19</td>\n",
              "      <td>Friday</td>\n",
              "    </tr>\n",
              "    <tr>\n",
              "      <th>31</th>\n",
              "      <td>2019-06-06</td>\n",
              "      <td>50640</td>\n",
              "      <td>기저귀</td>\n",
              "      <td>2019-06-06</td>\n",
              "      <td>2019</td>\n",
              "      <td>6</td>\n",
              "      <td>23</td>\n",
              "      <td>Thursday</td>\n",
              "    </tr>\n",
              "    <tr>\n",
              "      <th>32</th>\n",
              "      <td>2019-07-01</td>\n",
              "      <td>50640</td>\n",
              "      <td>기저귀</td>\n",
              "      <td>2019-07-01</td>\n",
              "      <td>2019</td>\n",
              "      <td>7</td>\n",
              "      <td>27</td>\n",
              "      <td>Monday</td>\n",
              "    </tr>\n",
              "    <tr>\n",
              "      <th>33</th>\n",
              "      <td>2019-07-29</td>\n",
              "      <td>101280</td>\n",
              "      <td>기저귀</td>\n",
              "      <td>2019-07-29</td>\n",
              "      <td>2019</td>\n",
              "      <td>7</td>\n",
              "      <td>31</td>\n",
              "      <td>Monday</td>\n",
              "    </tr>\n",
              "  </tbody>\n",
              "</table>\n",
              "</div>"
            ],
            "text/plain": [
              "           구매일    구매금액 물품대분류   Datetime  year  month  week day_of_week\n",
              "29  2019-05-13   59520   기저귀 2019-05-13  2019      5    20      Monday\n",
              "30  2019-05-10   50640   기저귀 2019-05-10  2019      5    19      Friday\n",
              "31  2019-06-06   50640   기저귀 2019-06-06  2019      6    23    Thursday\n",
              "32  2019-07-01   50640   기저귀 2019-07-01  2019      7    27      Monday\n",
              "33  2019-07-29  101280   기저귀 2019-07-29  2019      7    31      Monday"
            ]
          },
          "execution_count": 18,
          "metadata": {},
          "output_type": "execute_result"
        }
      ]
    },
    {
      "cell_type": "markdown",
      "metadata": {
        "id": "f835c069"
      },
      "source": [
        "# ** ARIMA (Auto Regressive Inegrated Moving Average)** "
      ],
      "id": "f835c069"
    },
    {
      "cell_type": "markdown",
      "metadata": {
        "id": "4851af4b"
      },
      "source": [
        " * ARIMA 사용 시기 및 조건\n",
        "    - 단기예측에 적합\n",
        "    - 계절적 변동요인 (주기적 변동요인)\n",
        "    - 표본의 크기가 최소 50개 이상 \n",
        "    - 정상적(Stationary)자료에 적용 가능 \n",
        "        - 평균이 증가/감소 -> 차분(Difference)을 실시\n",
        "        - 분산이 증가/감소 -> Lag 변환\n",
        "\n",
        "## 3가지가 조합된 모델\n",
        "\n",
        "### * AR(Auto Regressive Model) : 자기회귀모델    - ex)주식 - 어제마감했던금액이 다음날의 영향을주는 것\n",
        "\n",
        "\n",
        "    - P 시점 전의 자료가 현재 시점의 데이터에 영향을 주는 자기회귀모델\n",
        "    - 자기상관함수 (ACF : Auto Correlation Function) \n",
        "        - p 구간 내 데이터 사이의 상관관계 (교회 - 범죄 - [인구])\n",
        "    - 부분자기상관함수 (PACF : Partial Auto Correlation Function) : \n",
        "        - 다른 시점의 데이터들의 영향을 제외한 두 관측치 사이의 상관관계 (교회 \n",
        "\n",
        "    - 범죄 !- [인구])  \n",
        "    - 일반적인 AR 모델에서는 ACF는 일정히 감소 / PACF가 절단면을 갖는다 \n",
        "    - ACF와 PACF를 확인하여 분석 모델을 선택한다 \n",
        "    \n",
        "    \n",
        "### * MA(Moving Average Model) : 이동평균모델 - 특정데이터의 평균을 계산\n",
        "\n",
        "\n",
        "    - 일정한 p구간의 데이터들의 평균을 계산하여, 미래를 예측하는 방법 \n",
        "    - 시계열의 불규칙적인 변동을 제거하기 위함 \n",
        "\n",
        "### * Difference(차분) : 정상적으로 변환해주는 작업\n",
        "     - 정상성(Stationary)을 만족하지 못하는 시계열 데이터를 정상성이 만족하는 데이   터로 변환 \n",
        "     - AR만 사용하면 변동자료들의 설명이 떨어짐 그래서 MA(이동평균모델)을 같이 사용해 줍니다.\n",
        "#### AR, MA 모델에 차분까지 집어넣은 모델이 Arima-Model 이다.\n",
        "\n",
        "** ARIMA Model** (사용하기 위한 조건)\n",
        "\n",
        "- 단기예측에 적합\n",
        "- 계절적 변동요인 (주기적 변동)\n",
        "- sample수가 많아야함. 기본적으로 Sample > 50\n",
        "- 정성적자료(나열했을때 일정한 trend를 갖는)\n",
        "    -> 차분"
      ],
      "id": "4851af4b"
    },
    {
      "cell_type": "code",
      "metadata": {
        "id": "2192c329"
      },
      "source": [
        "# ARIMA_model 을 쓸떄 사용하는 모듈\n",
        "import statsmodels.tsa.api as tsa"
      ],
      "id": "2192c329",
      "execution_count": null,
      "outputs": []
    },
    {
      "cell_type": "code",
      "metadata": {
        "id": "07590eb9",
        "outputId": "e55a41c7-9785-4829-d49d-6c457f954498"
      },
      "source": [
        "df2.head()"
      ],
      "id": "07590eb9",
      "execution_count": null,
      "outputs": [
        {
          "data": {
            "text/html": [
              "<div>\n",
              "<style scoped>\n",
              "    .dataframe tbody tr th:only-of-type {\n",
              "        vertical-align: middle;\n",
              "    }\n",
              "\n",
              "    .dataframe tbody tr th {\n",
              "        vertical-align: top;\n",
              "    }\n",
              "\n",
              "    .dataframe thead th {\n",
              "        text-align: right;\n",
              "    }\n",
              "</style>\n",
              "<table border=\"1\" class=\"dataframe\">\n",
              "  <thead>\n",
              "    <tr style=\"text-align: right;\">\n",
              "      <th></th>\n",
              "      <th>구매일</th>\n",
              "      <th>구매금액</th>\n",
              "      <th>물품대분류</th>\n",
              "      <th>Datetime</th>\n",
              "      <th>year</th>\n",
              "      <th>month</th>\n",
              "      <th>week</th>\n",
              "      <th>day_of_week</th>\n",
              "    </tr>\n",
              "  </thead>\n",
              "  <tbody>\n",
              "    <tr>\n",
              "      <th>29</th>\n",
              "      <td>2019-05-13</td>\n",
              "      <td>59520</td>\n",
              "      <td>기저귀</td>\n",
              "      <td>2019-05-13</td>\n",
              "      <td>2019</td>\n",
              "      <td>5</td>\n",
              "      <td>20</td>\n",
              "      <td>Monday</td>\n",
              "    </tr>\n",
              "    <tr>\n",
              "      <th>30</th>\n",
              "      <td>2019-05-10</td>\n",
              "      <td>50640</td>\n",
              "      <td>기저귀</td>\n",
              "      <td>2019-05-10</td>\n",
              "      <td>2019</td>\n",
              "      <td>5</td>\n",
              "      <td>19</td>\n",
              "      <td>Friday</td>\n",
              "    </tr>\n",
              "    <tr>\n",
              "      <th>31</th>\n",
              "      <td>2019-06-06</td>\n",
              "      <td>50640</td>\n",
              "      <td>기저귀</td>\n",
              "      <td>2019-06-06</td>\n",
              "      <td>2019</td>\n",
              "      <td>6</td>\n",
              "      <td>23</td>\n",
              "      <td>Thursday</td>\n",
              "    </tr>\n",
              "    <tr>\n",
              "      <th>32</th>\n",
              "      <td>2019-07-01</td>\n",
              "      <td>50640</td>\n",
              "      <td>기저귀</td>\n",
              "      <td>2019-07-01</td>\n",
              "      <td>2019</td>\n",
              "      <td>7</td>\n",
              "      <td>27</td>\n",
              "      <td>Monday</td>\n",
              "    </tr>\n",
              "    <tr>\n",
              "      <th>33</th>\n",
              "      <td>2019-07-29</td>\n",
              "      <td>101280</td>\n",
              "      <td>기저귀</td>\n",
              "      <td>2019-07-29</td>\n",
              "      <td>2019</td>\n",
              "      <td>7</td>\n",
              "      <td>31</td>\n",
              "      <td>Monday</td>\n",
              "    </tr>\n",
              "  </tbody>\n",
              "</table>\n",
              "</div>"
            ],
            "text/plain": [
              "           구매일    구매금액 물품대분류   Datetime  year  month  week day_of_week\n",
              "29  2019-05-13   59520   기저귀 2019-05-13  2019      5    20      Monday\n",
              "30  2019-05-10   50640   기저귀 2019-05-10  2019      5    19      Friday\n",
              "31  2019-06-06   50640   기저귀 2019-06-06  2019      6    23    Thursday\n",
              "32  2019-07-01   50640   기저귀 2019-07-01  2019      7    27      Monday\n",
              "33  2019-07-29  101280   기저귀 2019-07-29  2019      7    31      Monday"
            ]
          },
          "execution_count": 20,
          "metadata": {},
          "output_type": "execute_result"
        }
      ]
    },
    {
      "cell_type": "code",
      "metadata": {
        "id": "483347bb",
        "outputId": "76c26fa4-dca1-436f-de89-62086b384d5e"
      },
      "source": [
        "df_time = pd.pivot_table(data=df2, index=\"Datetime\",\n",
        "                         values=\"구매금액\", aggfunc=\"sum\")\n",
        "df_time.head()"
      ],
      "id": "483347bb",
      "execution_count": null,
      "outputs": [
        {
          "data": {
            "text/html": [
              "<div>\n",
              "<style scoped>\n",
              "    .dataframe tbody tr th:only-of-type {\n",
              "        vertical-align: middle;\n",
              "    }\n",
              "\n",
              "    .dataframe tbody tr th {\n",
              "        vertical-align: top;\n",
              "    }\n",
              "\n",
              "    .dataframe thead th {\n",
              "        text-align: right;\n",
              "    }\n",
              "</style>\n",
              "<table border=\"1\" class=\"dataframe\">\n",
              "  <thead>\n",
              "    <tr style=\"text-align: right;\">\n",
              "      <th></th>\n",
              "      <th>구매금액</th>\n",
              "    </tr>\n",
              "    <tr>\n",
              "      <th>Datetime</th>\n",
              "      <th></th>\n",
              "    </tr>\n",
              "  </thead>\n",
              "  <tbody>\n",
              "    <tr>\n",
              "      <th>2019-01-01</th>\n",
              "      <td>3051240</td>\n",
              "    </tr>\n",
              "    <tr>\n",
              "      <th>2019-01-02</th>\n",
              "      <td>2556280</td>\n",
              "    </tr>\n",
              "    <tr>\n",
              "      <th>2019-01-03</th>\n",
              "      <td>2729480</td>\n",
              "    </tr>\n",
              "    <tr>\n",
              "      <th>2019-01-04</th>\n",
              "      <td>2238440</td>\n",
              "    </tr>\n",
              "    <tr>\n",
              "      <th>2019-01-05</th>\n",
              "      <td>2478680</td>\n",
              "    </tr>\n",
              "  </tbody>\n",
              "</table>\n",
              "</div>"
            ],
            "text/plain": [
              "               구매금액\n",
              "Datetime           \n",
              "2019-01-01  3051240\n",
              "2019-01-02  2556280\n",
              "2019-01-03  2729480\n",
              "2019-01-04  2238440\n",
              "2019-01-05  2478680"
            ]
          },
          "execution_count": 21,
          "metadata": {},
          "output_type": "execute_result"
        }
      ]
    },
    {
      "cell_type": "markdown",
      "metadata": {
        "id": "76c33114"
      },
      "source": [
        "### 예를 들어서 밑에 방법으로도 사용 가능\n",
        "- set_index를 사용하여"
      ],
      "id": "76c33114"
    },
    {
      "cell_type": "code",
      "metadata": {
        "id": "c52dc277"
      },
      "source": [
        "# df_time = pd.pivot_table(data=df2, index=\"Datetime\",\n",
        "#                          values=\"구매금액\", aggfunc=\"sum\").reset_index()\n",
        "# df_time.head().set_index(\"Datetime\")"
      ],
      "id": "c52dc277",
      "execution_count": null,
      "outputs": []
    },
    {
      "cell_type": "code",
      "metadata": {
        "id": "47ab582b"
      },
      "source": [
        "# # 일주일 단위로 평균 금액을 계산해줌\n",
        "# EX) 1Y, 1M, 1W, 1D\n",
        "# y = df_time[\"구매금액\"].resample(\"1W\").mean()\n",
        "# y"
      ],
      "id": "47ab582b",
      "execution_count": null,
      "outputs": []
    },
    {
      "cell_type": "code",
      "metadata": {
        "id": "1157c35b",
        "outputId": "98821924-c85f-447b-b6ab-fed46a3322f9"
      },
      "source": [
        "y = df_time[\"구매금액\"].resample(\"1D\").mean()\n",
        "y"
      ],
      "id": "1157c35b",
      "execution_count": null,
      "outputs": [
        {
          "data": {
            "text/plain": [
              "Datetime\n",
              "2019-01-01    3051240.0\n",
              "2019-01-02    2556280.0\n",
              "2019-01-03    2729480.0\n",
              "2019-01-04    2238440.0\n",
              "2019-01-05    2478680.0\n",
              "                ...    \n",
              "2020-08-03    3075900.0\n",
              "2020-08-04    4010200.0\n",
              "2020-08-05    2937800.0\n",
              "2020-08-06    2647000.0\n",
              "2020-08-07    1022300.0\n",
              "Freq: D, Name: 구매금액, Length: 585, dtype: float64"
            ]
          },
          "execution_count": 24,
          "metadata": {},
          "output_type": "execute_result"
        }
      ]
    },
    {
      "cell_type": "code",
      "metadata": {
        "id": "a0cea5f2",
        "outputId": "deaee72c-6d7e-4976-d9a4-fd8bf347413b"
      },
      "source": [
        "y.isnull().sum() # 결측치가 있으면 , model이 돌아가질 않기 떄문에 결측치 확인 해 줍니다."
      ],
      "id": "a0cea5f2",
      "execution_count": null,
      "outputs": [
        {
          "data": {
            "text/plain": [
              "7"
            ]
          },
          "execution_count": 25,
          "metadata": {},
          "output_type": "execute_result"
        }
      ]
    },
    {
      "cell_type": "markdown",
      "metadata": {
        "id": "b12b442c"
      },
      "source": [
        "### #결측치를 채우기 위한 것중, 그나마 괜찮은방법이 .fillna(method=\"bfill\") 사용\n",
        "\n",
        "이전자료를 대처값으로 채워줌(여기선 전날 data로 채워 줌)\n",
        "\n",
        "- bfill 은 이전데이터를 결측치에 채워줌.(Backward)\n",
        "- ffill 은 다음데이터를 결측치에 채워줌.(Forward)"
      ],
      "id": "b12b442c"
    },
    {
      "cell_type": "code",
      "metadata": {
        "id": "60f2d944",
        "outputId": "cec21e49-b22c-4f9c-ec7b-e064e88fc6a6"
      },
      "source": [
        "# Missing 값이 있는 경우에\n",
        "y1  = y.fillna( method=\"ffill\")\n",
        "y1.isnull().sum()"
      ],
      "id": "60f2d944",
      "execution_count": null,
      "outputs": [
        {
          "data": {
            "text/plain": [
              "0"
            ]
          },
          "execution_count": 26,
          "metadata": {},
          "output_type": "execute_result"
        }
      ]
    },
    {
      "cell_type": "markdown",
      "metadata": {
        "id": "6c8061e2"
      },
      "source": [
        "## *시계열 모델 생성과 모델 시각화\n",
        "\n",
        "- 주단위로 했을 때, 데이터 수가 50개 채 되지않아, tsa.seasonal_decompose에 적합하지 않기 때문에 일단위평균값으로 맟춤"
      ],
      "id": "6c8061e2"
    },
    {
      "cell_type": "markdown",
      "metadata": {
        "id": "965936e3"
      },
      "source": [
        "* 분해 시계열\n",
        "    - 시계열에 영향을 주는 일반적 요인을 시계열에서 분리해 분석하는 방법 \n",
        "    - 계절요인 Seasonal\n",
        "    - 추세요인 Trend \n",
        "    - 순환요인 Cyclical \n",
        "    - 불규칙요인 Irregular"
      ],
      "id": "965936e3"
    },
    {
      "cell_type": "code",
      "metadata": {
        "id": "347b2f33"
      },
      "source": [
        "from pylab import rcParams\n",
        "\n",
        "rcParams[\"figure.figsize\"]= 13,10 #그래프의 SIZE를 조정해주는 함수\n",
        "\n",
        "# #차트 기본 크기 설정\n",
        "# mpl.rcParams['axes.labelsize'] = 14\n",
        "# mpl.rcParams['xtick.labelsize'] = 12\n",
        "# mpl.rcParams['ytick.labelsize'] = 12\n",
        "# mpl.rcParams['text.color'] = 'k'"
      ],
      "id": "347b2f33",
      "execution_count": null,
      "outputs": []
    },
    {
      "cell_type": "code",
      "metadata": {
        "id": "bd96f774",
        "outputId": "e21e5a73-442a-42cd-fcde-3371078e1bee"
      },
      "source": [
        "#시계열 모델 생성\n",
        "\n",
        "model_series = tsa.seasonal_decompose(y1, model=\"additive\")\n",
        "\n",
        "#모델 시각화\n",
        "fig = model_series.plot()\n",
        "plt.show()"
      ],
      "id": "bd96f774",
      "execution_count": null,
      "outputs": [
        {
          "name": "stderr",
          "output_type": "stream",
          "text": [
            "C:\\Users\\qazxc\\anaconda3\\lib\\site-packages\\matplotlib\\backends\\backend_agg.py:238: RuntimeWarning: Glyph 8722 missing from current font.\n",
            "  font.set_text(s, 0.0, flags=flags)\n",
            "C:\\Users\\qazxc\\anaconda3\\lib\\site-packages\\matplotlib\\backends\\backend_agg.py:201: RuntimeWarning: Glyph 8722 missing from current font.\n",
            "  font.set_text(s, 0, flags=flags)\n"
          ]
        },
        {
          "data": {
            "image/png": "[encoded data removed]",
            "text/plain": [
              "<Figure size 936x720 with 4 Axes>"
            ]
          },
          "metadata": {
            "needs_background": "light"
          },
          "output_type": "display_data"
        }
      ]
    },
    {
      "cell_type": "code",
      "metadata": {
        "id": "2bb411bc"
      },
      "source": [
        "import itertools # 반복수를 만드는 라이브러리 "
      ],
      "id": "2bb411bc",
      "execution_count": null,
      "outputs": []
    },
    {
      "cell_type": "code",
      "metadata": {
        "id": "89a698d3"
      },
      "source": [
        "p = d  = q = range(0, 2)\n",
        "pdq = list(itertools.product(p, d, q))\n",
        "seasonal_pdq = [(x[0], x[1], x[2] , 12) for x in list(itertools.product(p, d, q))]"
      ],
      "id": "89a698d3",
      "execution_count": null,
      "outputs": []
    },
    {
      "cell_type": "code",
      "metadata": {
        "id": "2580d858",
        "outputId": "2cbc81f2-be5a-4e1a-f5ca-e8355587eba5"
      },
      "source": [
        "seasonal_pdq"
      ],
      "id": "2580d858",
      "execution_count": null,
      "outputs": [
        {
          "data": {
            "text/plain": [
              "[(0, 0, 0, 12),\n",
              " (0, 0, 1, 12),\n",
              " (0, 1, 0, 12),\n",
              " (0, 1, 1, 12),\n",
              " (1, 0, 0, 12),\n",
              " (1, 0, 1, 12),\n",
              " (1, 1, 0, 12),\n",
              " (1, 1, 1, 12)]"
            ]
          },
          "execution_count": 31,
          "metadata": {},
          "output_type": "execute_result"
        }
      ]
    },
    {
      "cell_type": "code",
      "metadata": {
        "id": "e5b4a13b"
      },
      "source": [
        "param_list = []\n",
        "param_seasonal_list = []\n",
        "results_AIC_list = []"
      ],
      "id": "e5b4a13b",
      "execution_count": null,
      "outputs": []
    },
    {
      "cell_type": "code",
      "metadata": {
        "id": "c6548185"
      },
      "source": [
        "for param in pdq:\n",
        "    for param_seasonal in seasonal_pdq:\n",
        "        try:\n",
        "            mod = tsa.statespace.SARIMAX(y1, order=param,\n",
        "                                        seasonal_order= param_seasonal,\n",
        "                                        enforce_stationarity=False,\n",
        "                                        enforce_invertibility=False)\n",
        "            results = mod.fit()\n",
        "            param_list.append(param)\n",
        "            param_seasonal_list.append(param_seasonal)\n",
        "            results_AIC_list.append(results.aic)\n",
        "        except:\n",
        "            continue"
      ],
      "id": "c6548185",
      "execution_count": null,
      "outputs": []
    },
    {
      "cell_type": "code",
      "metadata": {
        "id": "c4297f0d"
      },
      "source": [
        "ARIMA_list = pd.DataFrame({'Parameter':param_list,'Seasonal':param_seasonal_list,'AIC':results_AIC_list})\n",
        "ARIMA_list.to_excel('arima_model_list.xlsx')"
      ],
      "id": "c4297f0d",
      "execution_count": null,
      "outputs": []
    },
    {
      "cell_type": "markdown",
      "metadata": {
        "id": "36024dd7"
      },
      "source": [
        "- **Likelihood (최대우도) : 특정 데이터가 모수로부터 추출되었을 가능도**\n",
        "    - 특정 값에 대한 분포의 확률 추정 (연속 확률 밀도 함수 pdf의 y값) \n",
        "    \n",
        "    \n",
        "- **AIC (Akaike Information Criterion) : 데이터에 대한 모델의 상대적 품질**\n",
        "    - AIC = -2 ln(L) + 2k \n",
        "    - 값이 낮을 수록 모형 적합도가 높은것을 의미 \n",
        "    \n",
        "    \n",
        "- **BIC (Bayes Information Criterion)**\n",
        "    - BIC = -2 ln(L) + log(n)p \n",
        "    - 변수가 더 많은 경우,  AIC에 더 많은 패널티를 부여해 계산 \n",
        "    \n",
        "    \n",
        "- **HQIC (Hannan Quinn Information Criterion)**\n",
        "    - HQIC = -2 ln(L) + 2k ln(ln(n))"
      ],
      "id": "36024dd7"
    },
    {
      "cell_type": "code",
      "metadata": {
        "id": "7e412346",
        "outputId": "9ba40818-8b78-4eda-9504-ef8dcff40d48"
      },
      "source": [
        "mod = tsa.statespace.SARIMAX(y1,order=(0, 1, 1),seasonal_order=(0, 1, 1, 12),\n",
        "                              enforce_stationarity=False, enforce_invertibility=False)\n",
        "results = mod.fit()\n",
        "print(results.summary())"
      ],
      "id": "7e412346",
      "execution_count": null,
      "outputs": [
        {
          "name": "stdout",
          "output_type": "stream",
          "text": [
            "                                     SARIMAX Results                                      \n",
            "==========================================================================================\n",
            "Dep. Variable:                               구매금액   No. Observations:                  585\n",
            "Model:             SARIMAX(0, 1, 1)x(0, 1, 1, 12)   Log Likelihood               -9521.297\n",
            "Date:                            Wed, 22 Sep 2021   AIC                          19048.594\n",
            "Time:                                    14:34:08   BIC                          19061.567\n",
            "Sample:                                01-01-2019   HQIC                         19053.660\n",
            "                                     - 08-07-2020                                         \n",
            "Covariance Type:                              opg                                         \n",
            "==============================================================================\n",
            "                 coef    std err          z      P>|z|      [0.025      0.975]\n",
            "------------------------------------------------------------------------------\n",
            "ma.L1         -0.0721      0.063     -1.137      0.256      -0.196       0.052\n",
            "ma.S.L12      -0.9948      0.022    -45.508      0.000      -1.038      -0.952\n",
            "sigma2      6.593e+13        nan        nan        nan         nan         nan\n",
            "===================================================================================\n",
            "Ljung-Box (L1) (Q):                   0.21   Jarque-Bera (JB):               324.63\n",
            "Prob(Q):                              0.65   Prob(JB):                         0.00\n",
            "Heteroskedasticity (H):               0.42   Skew:                             0.31\n",
            "Prob(H) (two-sided):                  0.00   Kurtosis:                         6.69\n",
            "===================================================================================\n",
            "\n",
            "Warnings:\n",
            "[1] Covariance matrix calculated using the outer product of gradients (complex-step).\n",
            "[2] Covariance matrix is singular or near-singular, with condition number 9.18e+43. Standard errors may be unstable.\n"
          ]
        }
      ]
    },
    {
      "cell_type": "markdown",
      "metadata": {
        "id": "8925c78e"
      },
      "source": [
        "### Order (p,d,q), Seasonal Order (P,D,Q,M)\n",
        "\n",
        "- p : AR에서의 p값 (p 구간 내 데이터 사이의 상관관계)\n",
        "- d : 차분\n",
        "- q : q MA PACF 편상관계수 q 값\n",
        "- P\n",
        "- D\n",
        "- Q\n",
        "- M\n",
        "- Ljung - Box Test : 일정 기간동안 관측치가 랜덤이고, 독립적인지 여부를 검정\n",
        "\n",
        "- 귀무 : 데이터가 상관관계를 나타내지 않는다.\n",
        "- 대립 : 데이터가 상관관계를 나타낸다.\n",
        "- P.value(귀무가설이 참일 확률) < 0.05 (유의수준) -> 대립가설 참\n",
        "- Jarque Bera Test : 왜도와 첨도가 정규분포와 일치하는지 가설검정\n",
        "\n",
        "- SARIMAX : 잔차의 분포가 정규분포 인가\n",
        "- 귀무 가설 : 해당 잔차(residual)는 정규분포와 일치한다.\n",
        "- 대립 가설 : 해당 잔차(residual)는 정규분포와 일치하지 않는다.\n",
        "- P.value < 0.05 , 해당 잔차(residual)는 정규분포와 일치하지 않는다."
      ],
      "id": "8925c78e"
    },
    {
      "cell_type": "code",
      "metadata": {
        "id": "d3cd3c44",
        "outputId": "2b8af644-9b5f-403e-9825-66a33c138288"
      },
      "source": [
        "results.plot_diagnostics(figsize=(16, 8))\n",
        "plt.show()"
      ],
      "id": "d3cd3c44",
      "execution_count": null,
      "outputs": [
        {
          "name": "stderr",
          "output_type": "stream",
          "text": [
            "C:\\Users\\qazxc\\anaconda3\\lib\\site-packages\\matplotlib\\backends\\backend_agg.py:238: RuntimeWarning: Glyph 8722 missing from current font.\n",
            "  font.set_text(s, 0.0, flags=flags)\n",
            "C:\\Users\\qazxc\\anaconda3\\lib\\site-packages\\matplotlib\\backends\\backend_agg.py:201: RuntimeWarning: Glyph 8722 missing from current font.\n",
            "  font.set_text(s, 0, flags=flags)\n"
          ]
        },
        {
          "data": {
            "image/png": "[encoded data removed]",
            "text/plain": [
              "<Figure size 1152x576 with 4 Axes>"
            ]
          },
          "metadata": {
            "needs_background": "light"
          },
          "output_type": "display_data"
        }
      ]
    },
    {
      "cell_type": "code",
      "metadata": {
        "id": "9aacbcab",
        "outputId": "292fdb00-1f10-4a0e-897c-61d84dfc1e26"
      },
      "source": [
        "results.get_prediction()"
      ],
      "id": "9aacbcab",
      "execution_count": null,
      "outputs": [
        {
          "data": {
            "text/plain": [
              "<statsmodels.tsa.statespace.mlemodel.PredictionResultsWrapper at 0x202851c0700>"
            ]
          },
          "execution_count": 37,
          "metadata": {},
          "output_type": "execute_result"
        }
      ]
    },
    {
      "cell_type": "code",
      "metadata": {
        "id": "33b35931"
      },
      "source": [
        ""
      ],
      "id": "33b35931",
      "execution_count": null,
      "outputs": []
    }
  ]
}